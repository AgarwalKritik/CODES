{
  "nbformat": 4,
  "nbformat_minor": 0,
  "metadata": {
    "colab": {
      "provenance": []
    },
    "kernelspec": {
      "name": "python3",
      "display_name": "Python 3"
    },
    "language_info": {
      "name": "python"
    }
  },
  "cells": [
    {
      "cell_type": "markdown",
      "source": [
        "[**KRITIK AGARWAL 19BBTCS067**](https://github.com/Kritik007)"
      ],
      "metadata": {
        "id": "tiCLwtEh1btq"
      }
    },
    {
      "cell_type": "markdown",
      "source": [
        "***DAP Lab Exp.No.3***"
      ],
      "metadata": {
        "id": "2dXMw1V01bdk"
      }
    },
    {
      "cell_type": "markdown",
      "source": [
        "Regular Expression: Demonstrate usage of regular expression"
      ],
      "metadata": {
        "id": "sjKiY5Wg1bWN"
      }
    },
    {
      "cell_type": "code",
      "source": [
        "#Regular expressions provide a flexible way to search or match (often more complex) string patterns in text.\n",
        "#Python’s built-in re module is responsible for applying regular expressions to strings\n",
        "import re"
      ],
      "metadata": {
        "id": "5l2VzPMx1bKg"
      },
      "execution_count": 1,
      "outputs": []
    },
    {
      "cell_type": "code",
      "execution_count": 2,
      "metadata": {
        "colab": {
          "base_uri": "https://localhost:8080/"
        },
        "id": "odFc1Wt91W6X",
        "outputId": "f102fac3-4a40-4e25-ee3f-135f045a14b9"
      },
      "outputs": [
        {
          "output_type": "stream",
          "name": "stdout",
          "text": [
            "Search Successful\n"
          ]
        }
      ],
      "source": [
        "# Let's match a basic regex pattern\n",
        "pattern = '^k....k$'\n",
        "string = 'kritik'\n",
        "result = re.match(pattern, string)\n",
        "\n",
        "if result:\n",
        "  print(\"Search Successful\")\n",
        "else:\n",
        "  print(\"Search Unsuccessful\")"
      ]
    },
    {
      "cell_type": "code",
      "source": [
        "# The regex describing one or more whitespace characters is \\s+:\n",
        "text = \"foo bar\\t baz \\tqux\"\n",
        "re.split('\\s+', text)"
      ],
      "metadata": {
        "colab": {
          "base_uri": "https://localhost:8080/"
        },
        "id": "aU1NWEBC2VG2",
        "outputId": "cb6ac018-d811-4fe3-9ded-58e0366b8b86"
      },
      "execution_count": 3,
      "outputs": [
        {
          "output_type": "execute_result",
          "data": {
            "text/plain": [
              "['foo', 'bar', 'baz', 'qux']"
            ]
          },
          "metadata": {},
          "execution_count": 3
        }
      ]
    },
    {
      "cell_type": "code",
      "source": [
        "regex = re.compile('\\s+')"
      ],
      "metadata": {
        "id": "lneVpjE_2v0g"
      },
      "execution_count": 4,
      "outputs": []
    },
    {
      "cell_type": "code",
      "source": [
        "regex.split(text)"
      ],
      "metadata": {
        "colab": {
          "base_uri": "https://localhost:8080/"
        },
        "id": "soY4sJ2N26uY",
        "outputId": "3f56478a-8818-4ac8-a622-54f4a0647141"
      },
      "execution_count": 5,
      "outputs": [
        {
          "output_type": "execute_result",
          "data": {
            "text/plain": [
              "['foo', 'bar', 'baz', 'qux']"
            ]
          },
          "metadata": {},
          "execution_count": 5
        }
      ]
    },
    {
      "cell_type": "code",
      "source": [
        "regex.findall(text)"
      ],
      "metadata": {
        "colab": {
          "base_uri": "https://localhost:8080/"
        },
        "id": "Ar8E3Yim3Esu",
        "outputId": "bcf83d86-89db-47d6-e606-af835ee0ef7d"
      },
      "execution_count": 6,
      "outputs": [
        {
          "output_type": "execute_result",
          "data": {
            "text/plain": [
              "[' ', '\\t ', ' \\t']"
            ]
          },
          "metadata": {},
          "execution_count": 6
        }
      ]
    },
    {
      "cell_type": "code",
      "source": [
        "text = \"\"\"Prabhakar prabhakar.k@cmr.edu.in\n",
        "Parameswaran parameswaran.t@cmr.edu.in\n",
        "Sathiyaraj sathiyaraj.r@cmr.edu.in\n",
        "Mariyappan mariyappan.k@cmr.edu.in\n",
        "\"\"\"\n",
        "pattern = r'[A-Z0-9._%+-]+@[A-Z0-9.-]+\\.([A-Z0-9.-]+)+\\.[A-Z]{2,4}'\n",
        "regex = re.compile(pattern, flags=re.IGNORECASE)"
      ],
      "metadata": {
        "id": "abr-U6qX3WHZ"
      },
      "execution_count": 7,
      "outputs": []
    },
    {
      "cell_type": "code",
      "source": [
        "regex.findall(text)"
      ],
      "metadata": {
        "colab": {
          "base_uri": "https://localhost:8080/"
        },
        "id": "ZhSI5wUF4ueT",
        "outputId": "965ddeae-b78e-4f9c-9b08-9504f9be96ee"
      },
      "execution_count": 8,
      "outputs": [
        {
          "output_type": "execute_result",
          "data": {
            "text/plain": [
              "['edu', 'edu', 'edu', 'edu']"
            ]
          },
          "metadata": {},
          "execution_count": 8
        }
      ]
    },
    {
      "cell_type": "code",
      "source": [
        "m = regex.search(text)\n",
        "m"
      ],
      "metadata": {
        "colab": {
          "base_uri": "https://localhost:8080/"
        },
        "id": "zpP94xgu4xHh",
        "outputId": "205b07d7-bc0c-4bb0-9c8d-e61d0e31c51f"
      },
      "execution_count": 9,
      "outputs": [
        {
          "output_type": "execute_result",
          "data": {
            "text/plain": [
              "<re.Match object; span=(10, 32), match='prabhakar.k@cmr.edu.in'>"
            ]
          },
          "metadata": {},
          "execution_count": 9
        }
      ]
    },
    {
      "cell_type": "code",
      "source": [
        "print(regex.match(text))"
      ],
      "metadata": {
        "colab": {
          "base_uri": "https://localhost:8080/"
        },
        "id": "G8KUqLF74-2X",
        "outputId": "ae8b64eb-c63f-4a1a-d353-6741eba90f76"
      },
      "execution_count": 10,
      "outputs": [
        {
          "output_type": "stream",
          "name": "stdout",
          "text": [
            "None\n"
          ]
        }
      ]
    },
    {
      "cell_type": "code",
      "source": [
        "print(regex.sub('CMRU', text))"
      ],
      "metadata": {
        "colab": {
          "base_uri": "https://localhost:8080/"
        },
        "id": "jN_nphMa5D7N",
        "outputId": "94aae426-6427-47d6-e9ac-ba103f1ee28f"
      },
      "execution_count": 11,
      "outputs": [
        {
          "output_type": "stream",
          "name": "stdout",
          "text": [
            "Prabhakar CMRU\n",
            "Parameswaran CMRU\n",
            "Sathiyaraj CMRU\n",
            "Mariyappan CMRU\n",
            "\n"
          ]
        }
      ]
    },
    {
      "cell_type": "code",
      "source": [
        "pattern = r'([A-Z0-9._%+-]+)@([A-Z0-9.-]+)\\.([A-Z0-9.-]+)\\.([A-Z]{2,4})'\n",
        "regex = re.compile(pattern, flags=re.IGNORECASE)"
      ],
      "metadata": {
        "id": "m1p1V0-r5V1Z"
      },
      "execution_count": 12,
      "outputs": []
    },
    {
      "cell_type": "code",
      "source": [
        "m = regex.match('kritik.19bcs@cmr.edu.in')\n",
        "m.groups()"
      ],
      "metadata": {
        "colab": {
          "base_uri": "https://localhost:8080/"
        },
        "id": "V5NpqyR05Y0b",
        "outputId": "98b1e87d-8db0-4407-8895-254c1a947da2"
      },
      "execution_count": 13,
      "outputs": [
        {
          "output_type": "execute_result",
          "data": {
            "text/plain": [
              "('kritik.19bcs', 'cmr', 'edu', 'in')"
            ]
          },
          "metadata": {},
          "execution_count": 13
        }
      ]
    },
    {
      "cell_type": "code",
      "source": [
        "regex.findall(text)"
      ],
      "metadata": {
        "colab": {
          "base_uri": "https://localhost:8080/"
        },
        "id": "tG3gySKK5rK7",
        "outputId": "29c71946-9f7e-4cf4-a694-968c696f262e"
      },
      "execution_count": 14,
      "outputs": [
        {
          "output_type": "execute_result",
          "data": {
            "text/plain": [
              "[('prabhakar.k', 'cmr', 'edu', 'in'),\n",
              " ('parameswaran.t', 'cmr', 'edu', 'in'),\n",
              " ('sathiyaraj.r', 'cmr', 'edu', 'in'),\n",
              " ('mariyappan.k', 'cmr', 'edu', 'in')]"
            ]
          },
          "metadata": {},
          "execution_count": 14
        }
      ]
    },
    {
      "cell_type": "code",
      "source": [
        "print(regex.sub(r'Username: \\1, Prefix: \\2, Domain: \\3, Suffix: \\4', text))"
      ],
      "metadata": {
        "colab": {
          "base_uri": "https://localhost:8080/"
        },
        "id": "zryt-QV95yJm",
        "outputId": "4064068a-e5bb-459d-fc46-e8414538da0c"
      },
      "execution_count": 15,
      "outputs": [
        {
          "output_type": "stream",
          "name": "stdout",
          "text": [
            "Prabhakar Username: prabhakar.k, Prefix: cmr, Domain: edu, Suffix: in\n",
            "Parameswaran Username: parameswaran.t, Prefix: cmr, Domain: edu, Suffix: in\n",
            "Sathiyaraj Username: sathiyaraj.r, Prefix: cmr, Domain: edu, Suffix: in\n",
            "Mariyappan Username: mariyappan.k, Prefix: cmr, Domain: edu, Suffix: in\n",
            "\n"
          ]
        }
      ]
    }
  ]
}