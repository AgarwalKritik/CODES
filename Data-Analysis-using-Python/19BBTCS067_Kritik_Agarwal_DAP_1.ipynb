{
  "nbformat": 4,
  "nbformat_minor": 0,
  "metadata": {
    "colab": {
      "provenance": [],
      "collapsed_sections": []
    },
    "kernelspec": {
      "name": "python3",
      "display_name": "Python 3"
    },
    "language_info": {
      "name": "python"
    }
  },
  "cells": [
    {
      "cell_type": "markdown",
      "source": [
        "[**KRITIK AGARWAL 19BBTCS067**](https://github.com/Kritik007)"
      ],
      "metadata": {
        "id": "A9HY2AiTVa-5"
      }
    },
    {
      "cell_type": "markdown",
      "source": [
        "***DAP Lab Exp.No.1***"
      ],
      "metadata": {
        "id": "PFLXdWWxTtoW"
      }
    },
    {
      "cell_type": "markdown",
      "source": [
        "Python Data Structures: Develop an application that uses different python data structures"
      ],
      "metadata": {
        "id": "cXrY8j-TTteH"
      }
    },
    {
      "cell_type": "markdown",
      "source": [
        "## 1. Dictionaries"
      ],
      "metadata": {
        "id": "eDRudeaMUXXY"
      }
    },
    {
      "cell_type": "code",
      "execution_count": null,
      "metadata": {
        "id": "4ZXwOxnmS23k",
        "colab": {
          "base_uri": "https://localhost:8080/"
        },
        "outputId": "5df6e9c7-4268-4bb0-da22-162e0ebadb65"
      },
      "outputs": [
        {
          "output_type": "stream",
          "name": "stdout",
          "text": [
            "{'Owner': 1, 'Admin': 2, 'Manager': 3, 'Moderator': 4}\n"
          ]
        }
      ],
      "source": [
        "# Creating a Dictionary\n",
        "# Empty Dict can be created using \n",
        "Roles = {}\n",
        "# Dictionary with Elements can be created using\n",
        "Roles = {\"Owner\":1, \"Admin\":2, \"Manager\":3, \"Moderator\":4}\n",
        "print(Roles)"
      ]
    },
    {
      "cell_type": "code",
      "source": [
        "#Displaying Keys\n",
        "Roles.keys()"
      ],
      "metadata": {
        "colab": {
          "base_uri": "https://localhost:8080/"
        },
        "id": "htGzZ-tfUnSJ",
        "outputId": "9cd3ae95-7815-4e92-af85-9772f8363e12"
      },
      "execution_count": null,
      "outputs": [
        {
          "output_type": "execute_result",
          "data": {
            "text/plain": [
              "dict_keys(['Owner', 'Admin', 'Manager', 'Moderator'])"
            ]
          },
          "metadata": {},
          "execution_count": 2
        }
      ]
    },
    {
      "cell_type": "code",
      "source": [
        "#Displaying Values\n",
        "Roles.values()"
      ],
      "metadata": {
        "colab": {
          "base_uri": "https://localhost:8080/"
        },
        "id": "watZjgmiUrKZ",
        "outputId": "58310a95-ddb8-47c6-854f-3262529b1ee3"
      },
      "execution_count": null,
      "outputs": [
        {
          "output_type": "execute_result",
          "data": {
            "text/plain": [
              "dict_values([1, 2, 3, 4])"
            ]
          },
          "metadata": {},
          "execution_count": 3
        }
      ]
    },
    {
      "cell_type": "code",
      "source": [
        "#Displaying Dictionary Items\n",
        "Roles.items()"
      ],
      "metadata": {
        "colab": {
          "base_uri": "https://localhost:8080/"
        },
        "id": "UjrRk5ESUxqB",
        "outputId": "44b366ea-91fe-4de2-a379-8c98bf8d8c39"
      },
      "execution_count": null,
      "outputs": [
        {
          "output_type": "execute_result",
          "data": {
            "text/plain": [
              "dict_items([('Owner', 1), ('Admin', 2), ('Manager', 3), ('Moderator', 4)])"
            ]
          },
          "metadata": {},
          "execution_count": 4
        }
      ]
    },
    {
      "cell_type": "code",
      "source": [
        "#Updating Values using Key\n",
        "Roles['Moderator'] = 5\n",
        "print(Roles)"
      ],
      "metadata": {
        "colab": {
          "base_uri": "https://localhost:8080/"
        },
        "id": "1kUTGk65VmXp",
        "outputId": "dd0943d5-96d3-4912-f98f-e5d82880d12e"
      },
      "execution_count": null,
      "outputs": [
        {
          "output_type": "stream",
          "name": "stdout",
          "text": [
            "{'Owner': 1, 'Admin': 2, 'Manager': 3, 'Moderator': 5}\n"
          ]
        }
      ]
    },
    {
      "cell_type": "code",
      "source": [
        "#Updating Values using update() function\n",
        "Roles.update({'Moderator':4})\n",
        "print(Roles)"
      ],
      "metadata": {
        "colab": {
          "base_uri": "https://localhost:8080/"
        },
        "id": "bF9Oz6IAVu9Y",
        "outputId": "e65e59ca-cf77-43bc-e703-1390954bbd6d"
      },
      "execution_count": null,
      "outputs": [
        {
          "output_type": "stream",
          "name": "stdout",
          "text": [
            "{'Owner': 1, 'Admin': 2, 'Manager': 3, 'Moderator': 4}\n"
          ]
        }
      ]
    },
    {
      "cell_type": "code",
      "source": [
        "#Deleting an item from Dict\n",
        "del Roles['Manager'] # Or We May use Roles.pop('Manager')\n",
        "print(Roles)"
      ],
      "metadata": {
        "colab": {
          "base_uri": "https://localhost:8080/"
        },
        "id": "-JrnSJY7V5UR",
        "outputId": "c30426f8-4fb7-45b8-e5c9-18f3c41b82ec"
      },
      "execution_count": null,
      "outputs": [
        {
          "output_type": "stream",
          "name": "stdout",
          "text": [
            "{'Owner': 1, 'Admin': 2, 'Moderator': 4}\n"
          ]
        }
      ]
    },
    {
      "cell_type": "code",
      "source": [
        "#Empyting entire items in the dictionary using clear()\n",
        "Roles.clear()\n",
        "print(Roles)"
      ],
      "metadata": {
        "colab": {
          "base_uri": "https://localhost:8080/"
        },
        "id": "106VofP6V-zB",
        "outputId": "fb111d4b-bb31-49fd-d291-07a4859e8cc5"
      },
      "execution_count": null,
      "outputs": [
        {
          "output_type": "stream",
          "name": "stdout",
          "text": [
            "{}\n"
          ]
        }
      ]
    },
    {
      "cell_type": "markdown",
      "source": [
        "## 2. Lists"
      ],
      "metadata": {
        "id": "a1Y53fdFUZ2I"
      }
    },
    {
      "cell_type": "code",
      "source": [
        "#Creatung Lists\n",
        "# empty list\n",
        "my_list = []\n",
        "print(my_list)\n",
        "\n",
        "# list of integers\n",
        "my_list = [1, 2, 3]\n",
        "print(my_list)\n",
        "\n",
        "# list with mixed data types\n",
        "my_list = [1, \"Hello\", 3.4]\n",
        "print(my_list)\n",
        "\n",
        "# nested list\n",
        "my_list = [\"mouse\", [8, 4, 6], ['a']]\n",
        "print(my_list)"
      ],
      "metadata": {
        "colab": {
          "base_uri": "https://localhost:8080/"
        },
        "id": "k_WXeLpBan_E",
        "outputId": "a0b217c8-4bb4-4f77-9dc7-c8427563490f"
      },
      "execution_count": null,
      "outputs": [
        {
          "output_type": "stream",
          "name": "stdout",
          "text": [
            "[]\n",
            "[1, 2, 3]\n",
            "[1, 'Hello', 3.4]\n",
            "['mouse', [8, 4, 6], ['a']]\n"
          ]
        }
      ]
    },
    {
      "cell_type": "code",
      "source": [
        "my_list = ['p', 'r', 'o', 'b', 'e']\n",
        "\n",
        "# first item\n",
        "print(my_list[0])\n",
        "\n",
        "# third item\n",
        "print(my_list[2])\n",
        "\n",
        "# fifth item\n",
        "print(my_list[4])\n",
        "\n",
        "# Nested List\n",
        "n_list = [\"Happy\", [2, 0, 1, 5]]\n",
        "\n",
        "# Nested indexing\n",
        "print(n_list[0][1])\n",
        "\n",
        "print(n_list[1][3])"
      ],
      "metadata": {
        "colab": {
          "base_uri": "https://localhost:8080/"
        },
        "id": "PdpqhMX9a1j7",
        "outputId": "f544b7a5-b49b-4ddd-c075-17b9d4294890"
      },
      "execution_count": null,
      "outputs": [
        {
          "output_type": "stream",
          "name": "stdout",
          "text": [
            "p\n",
            "o\n",
            "e\n",
            "a\n",
            "5\n"
          ]
        }
      ]
    },
    {
      "cell_type": "code",
      "source": [
        "# Negative indexing in lists\n",
        "my_list = ['p','r','o','b','e']\n",
        "\n",
        "# last item\n",
        "print(my_list[-1])\n",
        "\n",
        "# fifth last item\n",
        "print(my_list[-5])"
      ],
      "metadata": {
        "colab": {
          "base_uri": "https://localhost:8080/"
        },
        "id": "TzKFrckDbhkk",
        "outputId": "28bc4562-72f2-4182-8b3a-729a1ac9dc74"
      },
      "execution_count": null,
      "outputs": [
        {
          "output_type": "stream",
          "name": "stdout",
          "text": [
            "e\n",
            "p\n"
          ]
        }
      ]
    },
    {
      "cell_type": "code",
      "source": [
        "# Correcting mistake values in a list\n",
        "odd = [2, 4, 6, 8]\n",
        "\n",
        "# change the 1st item    \n",
        "odd[0] = 1            \n",
        "\n",
        "print(odd)\n",
        "\n",
        "# change 2nd to 4th items\n",
        "odd[1:4] = [3, 5, 7]  \n",
        "\n",
        "print(odd)    "
      ],
      "metadata": {
        "colab": {
          "base_uri": "https://localhost:8080/"
        },
        "id": "2FUTs0VdbeGD",
        "outputId": "977f4175-59ef-4707-da62-08a343e66b17"
      },
      "execution_count": null,
      "outputs": [
        {
          "output_type": "stream",
          "name": "stdout",
          "text": [
            "[1, 4, 6, 8]\n",
            "[1, 3, 5, 7]\n"
          ]
        }
      ]
    },
    {
      "cell_type": "code",
      "source": [
        "# Concatenating and repeating lists\n",
        "odd = [1, 3, 5]\n",
        "\n",
        "print(odd + [9, 7, 5])\n",
        "\n",
        "print([\"re\"] * 3)"
      ],
      "metadata": {
        "colab": {
          "base_uri": "https://localhost:8080/"
        },
        "id": "O1uRLOtvbscW",
        "outputId": "36dee37e-7abf-4fca-9f87-15edb9e7186b"
      },
      "execution_count": null,
      "outputs": [
        {
          "output_type": "stream",
          "name": "stdout",
          "text": [
            "[1, 3, 5, 9, 7, 5]\n",
            "['re', 're', 're']\n"
          ]
        }
      ]
    },
    {
      "cell_type": "code",
      "source": [
        "# Demonstration of list insert() method\n",
        "odd = [1, 9]\n",
        "odd.insert(1,3)\n",
        "\n",
        "print(odd)\n",
        "\n",
        "odd[2:2] = [5, 7]\n",
        "\n",
        "print(odd)"
      ],
      "metadata": {
        "colab": {
          "base_uri": "https://localhost:8080/"
        },
        "id": "A7tVcU00byyo",
        "outputId": "95cd4a75-6cc5-4eb8-8b74-d94cacd208ba"
      },
      "execution_count": null,
      "outputs": [
        {
          "output_type": "stream",
          "name": "stdout",
          "text": [
            "[1, 3, 9]\n",
            "[1, 3, 5, 7, 9]\n"
          ]
        }
      ]
    },
    {
      "cell_type": "code",
      "source": [
        "# Deleting list items\n",
        "my_list = ['p', 'r', 'o', 'b', 'l', 'e', 'm']\n",
        "\n",
        "# delete one item\n",
        "del my_list[2]\n",
        "\n",
        "print(my_list)\n",
        "\n",
        "# delete multiple items\n",
        "del my_list[1:5]\n",
        "\n",
        "print(my_list)\n",
        "\n",
        "# delete the entire list\n",
        "del my_list"
      ],
      "metadata": {
        "colab": {
          "base_uri": "https://localhost:8080/"
        },
        "id": "7VOf2XN0b1O5",
        "outputId": "0e2e3d55-ae7e-4a42-b09c-1291a08b06c0"
      },
      "execution_count": null,
      "outputs": [
        {
          "output_type": "stream",
          "name": "stdout",
          "text": [
            "['p', 'r', 'b', 'l', 'e', 'm']\n",
            "['p', 'm']\n"
          ]
        }
      ]
    },
    {
      "cell_type": "code",
      "source": [
        "my_list = ['p','r','o','b','l','e','m']\n",
        "my_list.remove('p')\n",
        "\n",
        "# Output: ['r', 'o', 'b', 'l', 'e', 'm']\n",
        "print(my_list)\n",
        "\n",
        "# Output: 'o'\n",
        "print(my_list.pop(1))\n",
        "\n",
        "# Output: ['r', 'b', 'l', 'e', 'm']\n",
        "print(my_list)\n",
        "\n",
        "# Output: 'm'\n",
        "print(my_list.pop())\n",
        "\n",
        "# Output: ['r', 'b', 'l', 'e']\n",
        "print(my_list)\n",
        "\n",
        "my_list.clear()\n",
        "\n",
        "# Output: []\n",
        "print(my_list)"
      ],
      "metadata": {
        "colab": {
          "base_uri": "https://localhost:8080/"
        },
        "id": "dpyWT3RPb3nR",
        "outputId": "ab3d31f4-fbd7-48d1-ecdd-15191aa2eefb"
      },
      "execution_count": null,
      "outputs": [
        {
          "output_type": "stream",
          "name": "stdout",
          "text": [
            "['r', 'o', 'b', 'l', 'e', 'm']\n",
            "o\n",
            "['r', 'b', 'l', 'e', 'm']\n",
            "m\n",
            "['r', 'b', 'l', 'e']\n",
            "[]\n"
          ]
        }
      ]
    },
    {
      "cell_type": "markdown",
      "source": [
        "## 3. Sets"
      ],
      "metadata": {
        "id": "k9TqszcVUbHg"
      }
    },
    {
      "cell_type": "code",
      "source": [
        "# Creating Sets\n",
        "# set of integers\n",
        "my_set = {1, 2, 3}\n",
        "print(my_set)\n",
        "\n",
        "# set of mixed datatypes\n",
        "my_set = {1.0, \"Hello\", (1, 2, 3)}\n",
        "print(my_set)"
      ],
      "metadata": {
        "colab": {
          "base_uri": "https://localhost:8080/"
        },
        "id": "SYKWNEDyWLkJ",
        "outputId": "19e08ab0-1803-4d4a-eeaa-d34a81dc2fe9"
      },
      "execution_count": null,
      "outputs": [
        {
          "output_type": "stream",
          "name": "stdout",
          "text": [
            "{1, 2, 3}\n",
            "{1.0, 'Hello', (1, 2, 3)}\n"
          ]
        }
      ]
    },
    {
      "cell_type": "code",
      "source": [
        "# set cannot have duplicates\n",
        "my_set = {1, 2, 3, 4, 3, 2}\n",
        "print(my_set)\n",
        "\n",
        "# we can make set from a list\n",
        "my_set = set([1, 2, 3, 2])\n",
        "print(my_set)"
      ],
      "metadata": {
        "colab": {
          "base_uri": "https://localhost:8080/"
        },
        "id": "rF67SmGaWOM2",
        "outputId": "c6da812b-1440-4a10-a0ab-52a831417ce5"
      },
      "execution_count": null,
      "outputs": [
        {
          "output_type": "stream",
          "name": "stdout",
          "text": [
            "{1, 2, 3, 4}\n",
            "{1, 2, 3}\n"
          ]
        }
      ]
    },
    {
      "cell_type": "code",
      "source": [
        "# Distinguish set and dictionary while creating empty set\n",
        "\n",
        "# initialize a with {}\n",
        "a = {}\n",
        "\n",
        "# check data type of a\n",
        "print(type(a))\n",
        "\n",
        "# initialize a with set()\n",
        "a = set()\n",
        "\n",
        "# check data type of a\n",
        "print(type(a))"
      ],
      "metadata": {
        "colab": {
          "base_uri": "https://localhost:8080/"
        },
        "id": "SoLip5vCcJvF",
        "outputId": "bb7f8794-4e81-451e-e34c-3d50a8df2c58"
      },
      "execution_count": null,
      "outputs": [
        {
          "output_type": "stream",
          "name": "stdout",
          "text": [
            "<class 'dict'>\n",
            "<class 'set'>\n"
          ]
        }
      ]
    },
    {
      "cell_type": "code",
      "source": [
        "# initialize my_set\n",
        "my_set = {1, 3}\n",
        "print(my_set)\n",
        "\n",
        "# add an element\n",
        "my_set.add(2)\n",
        "print(my_set)\n",
        "\n",
        "# add multiple elements\n",
        "my_set.update([2, 3, 4])\n",
        "print(my_set)\n",
        "\n",
        "# add list and set\n",
        "my_set.update([4, 5], {1, 6, 8})\n",
        "print(my_set)"
      ],
      "metadata": {
        "colab": {
          "base_uri": "https://localhost:8080/"
        },
        "id": "hpDvSg3_cPml",
        "outputId": "df011f63-9a9c-4205-c0aa-4c4b6a80011c"
      },
      "execution_count": null,
      "outputs": [
        {
          "output_type": "stream",
          "name": "stdout",
          "text": [
            "{1, 3}\n",
            "{1, 2, 3}\n",
            "{1, 2, 3, 4}\n",
            "{1, 2, 3, 4, 5, 6, 8}\n"
          ]
        }
      ]
    },
    {
      "cell_type": "code",
      "source": [
        "# Difference between discard() and remove()\n",
        "\n",
        "# initialize my_set\n",
        "my_set = {1, 3, 4, 5, 6}\n",
        "print(my_set)\n",
        "\n",
        "# discard an element\n",
        "# Output: {1, 3, 5, 6}\n",
        "my_set.discard(4)\n",
        "print(my_set)\n",
        "\n",
        "# remove an element\n",
        "# Output: {1, 3, 5}\n",
        "my_set.remove(6)\n",
        "print(my_set)\n",
        "\n",
        "# discard an element\n",
        "# not present in my_set\n",
        "# Output: {1, 3, 5}\n",
        "my_set.discard(2)\n",
        "print(my_set)"
      ],
      "metadata": {
        "colab": {
          "base_uri": "https://localhost:8080/"
        },
        "id": "LAhXWYYacTSW",
        "outputId": "72e74ffc-bb93-43cc-bd1a-acc70aab1ae5"
      },
      "execution_count": null,
      "outputs": [
        {
          "output_type": "stream",
          "name": "stdout",
          "text": [
            "{1, 3, 4, 5, 6}\n",
            "{1, 3, 5, 6}\n",
            "{1, 3, 5}\n",
            "{1, 3, 5}\n"
          ]
        }
      ]
    },
    {
      "cell_type": "code",
      "source": [
        "# initialize my_set\n",
        "# Output: set of unique elements\n",
        "my_set = set(\"HelloWorld\")\n",
        "print(my_set)\n",
        "\n",
        "# pop an element\n",
        "# Output: random element\n",
        "print(my_set.pop())\n",
        "\n",
        "# pop another element\n",
        "my_set.pop()\n",
        "print(my_set)\n",
        "\n",
        "# clear my_set\n",
        "# Output: set()\n",
        "my_set.clear()\n",
        "print(my_set)"
      ],
      "metadata": {
        "colab": {
          "base_uri": "https://localhost:8080/"
        },
        "id": "qR1CTJM6cbVX",
        "outputId": "49c15221-5094-47e7-aad3-72768a4e176e"
      },
      "execution_count": null,
      "outputs": [
        {
          "output_type": "stream",
          "name": "stdout",
          "text": [
            "{'d', 'H', 'l', 'r', 'W', 'e', 'o'}\n",
            "d\n",
            "{'l', 'r', 'W', 'e', 'o'}\n",
            "set()\n"
          ]
        }
      ]
    },
    {
      "cell_type": "code",
      "source": [
        "# Set union method\n",
        "# initialize A and B\n",
        "A = {1, 2, 3, 4, 5}\n",
        "B = {4, 5, 6, 7, 8}\n",
        "\n",
        "# use | operator\n",
        "# Output: {1, 2, 3, 4, 5, 6, 7, 8}\n",
        "print(A | B)"
      ],
      "metadata": {
        "colab": {
          "base_uri": "https://localhost:8080/"
        },
        "id": "W68cfRoBWiAT",
        "outputId": "ddb71f21-e999-4dd8-a4f7-f9ff9dca643f"
      },
      "execution_count": null,
      "outputs": [
        {
          "output_type": "stream",
          "name": "stdout",
          "text": [
            "{1, 2, 3, 4, 5, 6, 7, 8}\n"
          ]
        }
      ]
    },
    {
      "cell_type": "code",
      "source": [
        "# Intersection of sets\n",
        "# initialize A and B\n",
        "A = {1, 2, 3, 4, 5}\n",
        "B = {4, 5, 6, 7, 8}\n",
        "\n",
        "# use & operator\n",
        "# Output: {4, 5}\n",
        "print(A & B)"
      ],
      "metadata": {
        "colab": {
          "base_uri": "https://localhost:8080/"
        },
        "id": "2RsHh-kzcgdA",
        "outputId": "ed9192c9-fcbb-439e-9e96-a6bb1370204f"
      },
      "execution_count": null,
      "outputs": [
        {
          "output_type": "stream",
          "name": "stdout",
          "text": [
            "{4, 5}\n"
          ]
        }
      ]
    },
    {
      "cell_type": "code",
      "source": [
        "# Difference of two sets\n",
        "# initialize A and B\n",
        "A = {1, 2, 3, 4, 5}\n",
        "B = {4, 5, 6, 7, 8}\n",
        "\n",
        "# use - operator on A\n",
        "# Output: {1, 2, 3}\n",
        "print(A - B)"
      ],
      "metadata": {
        "colab": {
          "base_uri": "https://localhost:8080/"
        },
        "id": "Yrt5vxBscikJ",
        "outputId": "3cca0e37-ddf6-4670-993b-120a15c7d2f0"
      },
      "execution_count": null,
      "outputs": [
        {
          "output_type": "stream",
          "name": "stdout",
          "text": [
            "{1, 2, 3}\n"
          ]
        }
      ]
    },
    {
      "cell_type": "code",
      "source": [
        "# Symmetric difference of two sets\n",
        "# initialize A and B\n",
        "A = {1, 2, 3, 4, 5}\n",
        "B = {4, 5, 6, 7, 8}\n",
        "\n",
        "# use ^ operator\n",
        "# Output: {1, 2, 3, 6, 7, 8}\n",
        "print(A ^ B)"
      ],
      "metadata": {
        "id": "7a9DykM8co_5",
        "outputId": "b1ccbdd4-332f-4dd2-e1a8-c660f2e5c16e",
        "colab": {
          "base_uri": "https://localhost:8080/"
        }
      },
      "execution_count": null,
      "outputs": [
        {
          "output_type": "stream",
          "name": "stdout",
          "text": [
            "{1, 2, 3, 6, 7, 8}\n"
          ]
        }
      ]
    },
    {
      "cell_type": "code",
      "source": [
        "# in keyword in a set\n",
        "# initialize my_set\n",
        "my_set = set(\"apple\")\n",
        "\n",
        "# check if 'a' is present\n",
        "# Output: True\n",
        "print('a' in my_set)\n",
        "\n",
        "# check if 'p' is present\n",
        "# Output: False\n",
        "print('p' not in my_set)"
      ],
      "metadata": {
        "id": "pieONr7wcraB",
        "outputId": "214a357c-d899-45f4-a8b5-b5f3e35307a7",
        "colab": {
          "base_uri": "https://localhost:8080/"
        }
      },
      "execution_count": null,
      "outputs": [
        {
          "output_type": "stream",
          "name": "stdout",
          "text": [
            "True\n",
            "False\n"
          ]
        }
      ]
    },
    {
      "cell_type": "code",
      "source": [],
      "metadata": {
        "id": "IMpMIZQTb-Js"
      },
      "execution_count": null,
      "outputs": []
    },
    {
      "cell_type": "markdown",
      "source": [
        "## 4. Tuples"
      ],
      "metadata": {
        "id": "MUEzRvAoUciI"
      }
    },
    {
      "cell_type": "code",
      "source": [
        "# Creating Tuples\n",
        "# Empty tuple\n",
        "my_tuple = ()\n",
        "print(my_tuple)\n",
        "\n",
        "# Tuple having integers\n",
        "my_tuple1 = (1, 2, 3)\n",
        "print(my_tuple1)\n",
        "\n",
        "# tuple with mixed datatypes\n",
        "my_tuple2 = (1, \"Hello\", 3.4)\n",
        "print(my_tuple2)\n",
        "\n",
        "# nested tuple\n",
        "my_tuple3 = (\"mouse\", [8, 4, 6], (1, 2, 3))\n",
        "print(my_tuple3)"
      ],
      "metadata": {
        "colab": {
          "base_uri": "https://localhost:8080/"
        },
        "id": "3vJoa9AfYR93",
        "outputId": "63be099b-31bf-48f1-b4b0-9ef07828b771"
      },
      "execution_count": null,
      "outputs": [
        {
          "output_type": "stream",
          "name": "stdout",
          "text": [
            "()\n",
            "(1, 2, 3)\n",
            "(1, 'Hello', 3.4)\n",
            "('mouse', [8, 4, 6], (1, 2, 3))\n"
          ]
        }
      ]
    },
    {
      "cell_type": "code",
      "source": [
        "# Tuple Packing (A tuple can also be created without using parentheses.)\n",
        "my_tuple4 = 3, 4.6, \"dog\"\n",
        "print(my_tuple4)\n",
        "\n",
        "#Tuple Unpacking\n",
        "a, b, c = my_tuple4\n",
        "print(\"\")\n",
        "print(a)\n",
        "print(b)\n",
        "print(c)"
      ],
      "metadata": {
        "colab": {
          "base_uri": "https://localhost:8080/"
        },
        "id": "hJBWE79CYW8_",
        "outputId": "c2fb942f-de30-4768-dff1-60638e2afafe"
      },
      "execution_count": null,
      "outputs": [
        {
          "output_type": "stream",
          "name": "stdout",
          "text": [
            "(3, 4.6, 'dog')\n",
            "\n",
            "3\n",
            "4.6\n",
            "dog\n"
          ]
        }
      ]
    },
    {
      "cell_type": "code",
      "source": [
        "my_tuple = (\"hello\")\n",
        "print(type(my_tuple))\n",
        "\n",
        "# Creating a tuple having one element\n",
        "my_tuple = (\"hello\",)\n",
        "print(type(my_tuple))\n",
        "\n",
        "# Parentheses is optional\n",
        "my_tuple = \"hello\",\n",
        "print(type(my_tuple)) "
      ],
      "metadata": {
        "colab": {
          "base_uri": "https://localhost:8080/"
        },
        "id": "kWYl1g5-ZqIp",
        "outputId": "9bfb2e93-49ca-4434-f76b-7683642af598"
      },
      "execution_count": null,
      "outputs": [
        {
          "output_type": "stream",
          "name": "stdout",
          "text": [
            "<class 'str'>\n",
            "<class 'tuple'>\n",
            "<class 'tuple'>\n"
          ]
        }
      ]
    },
    {
      "cell_type": "code",
      "source": [
        "# Accessing tuple elements using indexing\n",
        "my_tuple = ('p','e','r','m','i','t')\n",
        "\n",
        "print(my_tuple[0])\n",
        "print(my_tuple[5])\n",
        "\n",
        "# nested tuple\n",
        "n_tuple = (\"mouse\", [8, 4, 6], (1, 2, 3))\n",
        "\n",
        "# nested index\n",
        "print(n_tuple[0][3])\n",
        "print(n_tuple[1][1])"
      ],
      "metadata": {
        "colab": {
          "base_uri": "https://localhost:8080/"
        },
        "id": "3xoCckS4Z0AZ",
        "outputId": "18f3d22f-8d83-4885-8678-8d5cf5333ce8"
      },
      "execution_count": null,
      "outputs": [
        {
          "output_type": "stream",
          "name": "stdout",
          "text": [
            "p\n",
            "t\n",
            "s\n",
            "4\n"
          ]
        }
      ]
    },
    {
      "cell_type": "code",
      "source": [
        "# Negative indexing for accessing tuple elements\n",
        "my_tuple = ('p', 'e', 'r', 'm', 'i', 't')\n",
        "\n",
        "print(my_tuple[-1])\n",
        "print(my_tuple[-6])"
      ],
      "metadata": {
        "colab": {
          "base_uri": "https://localhost:8080/"
        },
        "id": "08ay4osOaEc4",
        "outputId": "5751c8aa-a562-4da5-ba46-fc723f7af504"
      },
      "execution_count": null,
      "outputs": [
        {
          "output_type": "stream",
          "name": "stdout",
          "text": [
            "t\n",
            "p\n"
          ]
        }
      ]
    },
    {
      "cell_type": "code",
      "source": [
        "#Deleting Tuple\n",
        "del my_tuple\n",
        "print(my_tuple)"
      ],
      "metadata": {
        "colab": {
          "base_uri": "https://localhost:8080/",
          "height": 200
        },
        "id": "Pd_-zx2RaVAv",
        "outputId": "db9002ac-efae-4d9d-d8fd-f656ebb2893a"
      },
      "execution_count": null,
      "outputs": [
        {
          "output_type": "error",
          "ename": "NameError",
          "evalue": "ignored",
          "traceback": [
            "\u001b[0;31m---------------------------------------------------------------------------\u001b[0m",
            "\u001b[0;31mNameError\u001b[0m                                 Traceback (most recent call last)",
            "\u001b[0;32m<ipython-input-33-197bc7ed8198>\u001b[0m in \u001b[0;36m<module>\u001b[0;34m\u001b[0m\n\u001b[1;32m      1\u001b[0m \u001b[0;31m#Deleting Tuple\u001b[0m\u001b[0;34m\u001b[0m\u001b[0;34m\u001b[0m\u001b[0;34m\u001b[0m\u001b[0m\n\u001b[1;32m      2\u001b[0m \u001b[0;32mdel\u001b[0m \u001b[0mmy_tuple\u001b[0m\u001b[0;34m\u001b[0m\u001b[0;34m\u001b[0m\u001b[0m\n\u001b[0;32m----> 3\u001b[0;31m \u001b[0mprint\u001b[0m\u001b[0;34m(\u001b[0m\u001b[0mmy_tuple\u001b[0m\u001b[0;34m)\u001b[0m\u001b[0;34m\u001b[0m\u001b[0;34m\u001b[0m\u001b[0m\n\u001b[0m",
            "\u001b[0;31mNameError\u001b[0m: name 'my_tuple' is not defined"
          ]
        }
      ]
    },
    {
      "cell_type": "code",
      "source": [
        "my_tuple = ('a', 'p', 'p', 'l', 'e',)\n",
        "\n",
        "print(my_tuple.count('p'))\n",
        "print(my_tuple.index('l'))"
      ],
      "metadata": {
        "id": "Jivsfmg_aeSG"
      },
      "execution_count": null,
      "outputs": []
    },
    {
      "cell_type": "code",
      "source": [
        "# Membership test in tuple\n",
        "my_tuple = ('a', 'p', 'p', 'l', 'e',)\n",
        "\n",
        "# In operation\n",
        "print('a' in my_tuple)\n",
        "print('b' in my_tuple)\n",
        "\n",
        "# Not in operation\n",
        "print('g' not in my_tuple)"
      ],
      "metadata": {
        "id": "ERmCP9TRajSh"
      },
      "execution_count": null,
      "outputs": []
    }
  ]
}