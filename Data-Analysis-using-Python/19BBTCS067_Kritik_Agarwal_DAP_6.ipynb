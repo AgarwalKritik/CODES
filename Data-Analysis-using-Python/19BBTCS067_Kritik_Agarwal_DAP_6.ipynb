{
  "nbformat": 4,
  "nbformat_minor": 0,
  "metadata": {
    "colab": {
      "provenance": []
    },
    "kernelspec": {
      "name": "python3",
      "display_name": "Python 3"
    },
    "language_info": {
      "name": "python"
    }
  },
  "cells": [
    {
      "cell_type": "markdown",
      "source": [
        "[**KRITIK AGARWAL 19BBTCS067**](https://github.com/Kritik007)"
      ],
      "metadata": {
        "id": "qesQMzaV8PFE"
      }
    },
    {
      "cell_type": "markdown",
      "source": [
        "***DAP Lab Exp.No.6***"
      ],
      "metadata": {
        "id": "22f85NzC8O_o"
      }
    },
    {
      "cell_type": "markdown",
      "source": [
        "USA gov Data from Bitly: \n",
        "\n",
        "In 2011, URL shortening service Bitly partnered with the US government website USA.gov to provide a feed of anonymous data gathered from users who shorten links ending with .gov or .mil. In 2011, a live feed as well as hourly snapshots were available as download able text files.\n",
        "\n",
        "\n",
        "\n",
        "1.   Load the data file\n",
        "2.   Convert a JSON string into a Python dictionary object \n",
        "3.   Counting Time Zones in Pure Python \n",
        "4.   Counting Time Zones in Pandas \n",
        "5.   Visualize this data using matplotlib and Seaborn\n",
        "\n"
      ],
      "metadata": {
        "id": "A5W6csN68Sc6"
      }
    },
    {
      "cell_type": "code",
      "source": [
        "from google.colab import drive\n",
        "drive.mount('/content/drive/')"
      ],
      "metadata": {
        "colab": {
          "base_uri": "https://localhost:8080/"
        },
        "id": "YpzvyV6b782A",
        "outputId": "03ba48f7-9f05-4493-a8ac-fd43531998a0"
      },
      "execution_count": 1,
      "outputs": [
        {
          "output_type": "stream",
          "name": "stdout",
          "text": [
            "Drive already mounted at /content/drive/; to attempt to forcibly remount, call drive.mount(\"/content/drive/\", force_remount=True).\n"
          ]
        }
      ]
    },
    {
      "cell_type": "code",
      "execution_count": 2,
      "metadata": {
        "id": "QtfqQMwV70fb"
      },
      "outputs": [],
      "source": [
        "from numpy.random import randn\n",
        "import numpy as np\n",
        "np.random.seed(123)\n",
        "import os\n",
        "import matplotlib.pyplot as plt\n",
        "import pandas as pd\n",
        "plt.rc('figure', figsize=(10, 6))\n",
        "np.set_printoptions(precision=4)\n",
        "pd.options.display.max_rows = 20"
      ]
    },
    {
      "cell_type": "markdown",
      "source": [
        "### USA.gov Data from Bitly"
      ],
      "metadata": {
        "id": "yYGF_RsD8mwn"
      }
    },
    {
      "cell_type": "markdown",
      "source": [
        "### 1. Loading the dataset(data file)"
      ],
      "metadata": {
        "id": "aiXfLxTZ8vp4"
      }
    },
    {
      "cell_type": "code",
      "source": [
        "path = \"/content/drive/MyDrive/example.txt\"\n",
        "open(path).readline()"
      ],
      "metadata": {
        "colab": {
          "base_uri": "https://localhost:8080/",
          "height": 0
        },
        "id": "HgeXFLNv76aw",
        "outputId": "06f3dc05-6e3c-44da-f5a5-fe344a5d6785"
      },
      "execution_count": 3,
      "outputs": [
        {
          "output_type": "execute_result",
          "data": {
            "text/plain": [
              "'{ \"a\": \"Mozilla\\\\/5.0 (Windows NT 6.1; WOW64) AppleWebKit\\\\/535.11 (KHTML, like Gecko) Chrome\\\\/17.0.963.78 Safari\\\\/535.11\", \"c\": \"US\", \"nk\": 1, \"tz\": \"America\\\\/New_York\", \"gr\": \"MA\", \"g\": \"A6qOVH\", \"h\": \"wfLQtf\", \"l\": \"orofrog\", \"al\": \"en-US,en;q=0.8\", \"hh\": \"1.usa.gov\", \"r\": \"http:\\\\/\\\\/www.facebook.com\\\\/l\\\\/7AQEFzjSi\\\\/1.usa.gov\\\\/wfLQtf\", \"u\": \"http:\\\\/\\\\/www.ncbi.nlm.nih.gov\\\\/pubmed\\\\/22415991\", \"t\": 1331923247, \"hc\": 1331822918, \"cy\": \"Danvers\", \"ll\": [ 42.576698, -70.954903 ] }\\n'"
            ],
            "application/vnd.google.colaboratory.intrinsic+json": {
              "type": "string"
            }
          },
          "metadata": {},
          "execution_count": 3
        }
      ]
    },
    {
      "cell_type": "markdown",
      "source": [
        "### 2. Converting a JSON string into a Python dictionary object"
      ],
      "metadata": {
        "id": "5B1veC6rBs3o"
      }
    },
    {
      "cell_type": "code",
      "source": [
        "import json\n",
        "records = [json.loads(line) for line in open(path)]"
      ],
      "metadata": {
        "id": "RXz232P88VNK"
      },
      "execution_count": 4,
      "outputs": []
    },
    {
      "cell_type": "code",
      "source": [
        "records[0]"
      ],
      "metadata": {
        "colab": {
          "base_uri": "https://localhost:8080/"
        },
        "id": "G1VOAznN8g2a",
        "outputId": "730f935b-d291-4c0b-be1c-df9775a5b13d"
      },
      "execution_count": 5,
      "outputs": [
        {
          "output_type": "execute_result",
          "data": {
            "text/plain": [
              "{'a': 'Mozilla/5.0 (Windows NT 6.1; WOW64) AppleWebKit/535.11 (KHTML, like Gecko) Chrome/17.0.963.78 Safari/535.11',\n",
              " 'c': 'US',\n",
              " 'nk': 1,\n",
              " 'tz': 'America/New_York',\n",
              " 'gr': 'MA',\n",
              " 'g': 'A6qOVH',\n",
              " 'h': 'wfLQtf',\n",
              " 'l': 'orofrog',\n",
              " 'al': 'en-US,en;q=0.8',\n",
              " 'hh': '1.usa.gov',\n",
              " 'r': 'http://www.facebook.com/l/7AQEFzjSi/1.usa.gov/wfLQtf',\n",
              " 'u': 'http://www.ncbi.nlm.nih.gov/pubmed/22415991',\n",
              " 't': 1331923247,\n",
              " 'hc': 1331822918,\n",
              " 'cy': 'Danvers',\n",
              " 'll': [42.576698, -70.954903]}"
            ]
          },
          "metadata": {},
          "execution_count": 5
        }
      ]
    },
    {
      "cell_type": "markdown",
      "source": [
        "### 3. Counting Time Zones in Pure Python"
      ],
      "metadata": {
        "id": "L5SI3j0z-jyx"
      }
    },
    {
      "cell_type": "code",
      "source": [
        "time_zones = [rec['tz'] for rec in records if 'tz' in rec]\n",
        "time_zones[:10]"
      ],
      "metadata": {
        "colab": {
          "base_uri": "https://localhost:8080/"
        },
        "id": "PbeWeeBo-n_X",
        "outputId": "0d63a13e-23fb-4e1a-bee6-87f55cbec691"
      },
      "execution_count": 6,
      "outputs": [
        {
          "output_type": "execute_result",
          "data": {
            "text/plain": [
              "['America/New_York',\n",
              " 'America/Denver',\n",
              " 'America/New_York',\n",
              " 'America/Sao_Paulo',\n",
              " 'America/New_York',\n",
              " 'America/New_York',\n",
              " 'Europe/Warsaw',\n",
              " '',\n",
              " '',\n",
              " '']"
            ]
          },
          "metadata": {},
          "execution_count": 6
        }
      ]
    },
    {
      "cell_type": "code",
      "source": [
        "def get_counts(sequence):\n",
        "  counts = {}\n",
        "  for x in sequence:\n",
        "    if x in counts:\n",
        "      counts[x] += 1\n",
        "    else:\n",
        "      counts[x] = 1\n",
        "  return counts"
      ],
      "metadata": {
        "id": "wbqPdH6L-u1W"
      },
      "execution_count": 7,
      "outputs": []
    },
    {
      "cell_type": "code",
      "source": [
        "from collections import defaultdict\n",
        "\n",
        "def get_counts2(sequence):\n",
        "  counts = defaultdict(int) # values will initialize to 0\n",
        "  for x in sequence:\n",
        "    counts[x] += 1\n",
        "  return counts"
      ],
      "metadata": {
        "id": "9YaNoe-x_Pi8"
      },
      "execution_count": 8,
      "outputs": []
    },
    {
      "cell_type": "code",
      "source": [
        "counts = get_counts(time_zones)\n",
        "counts['America/New_York']\n",
        "len(time_zones)"
      ],
      "metadata": {
        "colab": {
          "base_uri": "https://localhost:8080/"
        },
        "id": "en2kXem2_PTh",
        "outputId": "d6347773-0777-489d-b262-75ac4e4321f3"
      },
      "execution_count": 9,
      "outputs": [
        {
          "output_type": "execute_result",
          "data": {
            "text/plain": [
              "3440"
            ]
          },
          "metadata": {},
          "execution_count": 9
        }
      ]
    },
    {
      "cell_type": "code",
      "source": [
        "def top_counts(count_dict, n=10):\n",
        "  value_key_pairs = [(count, tz) for tz, count in count_dict.items()]\n",
        "  value_key_pairs.sort()\n",
        "  return value_key_pairs[-n:]"
      ],
      "metadata": {
        "id": "uK9LX_VO_hyn"
      },
      "execution_count": 10,
      "outputs": []
    },
    {
      "cell_type": "code",
      "source": [
        "top_counts(counts)"
      ],
      "metadata": {
        "colab": {
          "base_uri": "https://localhost:8080/"
        },
        "id": "XZI0bxfC_dV1",
        "outputId": "8cfb1530-67a9-44e4-a908-f36425f77751"
      },
      "execution_count": 11,
      "outputs": [
        {
          "output_type": "execute_result",
          "data": {
            "text/plain": [
              "[(33, 'America/Sao_Paulo'),\n",
              " (35, 'Europe/Madrid'),\n",
              " (36, 'Pacific/Honolulu'),\n",
              " (37, 'Asia/Tokyo'),\n",
              " (74, 'Europe/London'),\n",
              " (191, 'America/Denver'),\n",
              " (382, 'America/Los_Angeles'),\n",
              " (400, 'America/Chicago'),\n",
              " (521, ''),\n",
              " (1251, 'America/New_York')]"
            ]
          },
          "metadata": {},
          "execution_count": 11
        }
      ]
    },
    {
      "cell_type": "code",
      "source": [
        "from collections import Counter\n",
        "counts = Counter(time_zones)\n",
        "counts.most_common(10)"
      ],
      "metadata": {
        "colab": {
          "base_uri": "https://localhost:8080/"
        },
        "id": "A7xvQV3X_fhf",
        "outputId": "0eea10a9-54e9-460d-a4e3-e83a2de571a1"
      },
      "execution_count": 12,
      "outputs": [
        {
          "output_type": "execute_result",
          "data": {
            "text/plain": [
              "[('America/New_York', 1251),\n",
              " ('', 521),\n",
              " ('America/Chicago', 400),\n",
              " ('America/Los_Angeles', 382),\n",
              " ('America/Denver', 191),\n",
              " ('Europe/London', 74),\n",
              " ('Asia/Tokyo', 37),\n",
              " ('Pacific/Honolulu', 36),\n",
              " ('Europe/Madrid', 35),\n",
              " ('America/Sao_Paulo', 33)]"
            ]
          },
          "metadata": {},
          "execution_count": 12
        }
      ]
    },
    {
      "cell_type": "markdown",
      "source": [
        "### 4. Counting Time Zones with Pandas"
      ],
      "metadata": {
        "id": "DMx6KEJW8_SP"
      }
    },
    {
      "cell_type": "code",
      "source": [
        "frame = pd.DataFrame(records)\n",
        "frame.info()\n",
        "frame['tz'][:10]"
      ],
      "metadata": {
        "colab": {
          "base_uri": "https://localhost:8080/"
        },
        "id": "T4mtDcBq8jUb",
        "outputId": "a463eb89-01f2-4c1b-b376-789d2b4fbdc3"
      },
      "execution_count": 13,
      "outputs": [
        {
          "output_type": "stream",
          "name": "stdout",
          "text": [
            "<class 'pandas.core.frame.DataFrame'>\n",
            "RangeIndex: 3560 entries, 0 to 3559\n",
            "Data columns (total 18 columns):\n",
            " #   Column       Non-Null Count  Dtype  \n",
            "---  ------       --------------  -----  \n",
            " 0   a            3440 non-null   object \n",
            " 1   c            2919 non-null   object \n",
            " 2   nk           3440 non-null   float64\n",
            " 3   tz           3440 non-null   object \n",
            " 4   gr           2919 non-null   object \n",
            " 5   g            3440 non-null   object \n",
            " 6   h            3440 non-null   object \n",
            " 7   l            3440 non-null   object \n",
            " 8   al           3094 non-null   object \n",
            " 9   hh           3440 non-null   object \n",
            " 10  r            3440 non-null   object \n",
            " 11  u            3440 non-null   object \n",
            " 12  t            3440 non-null   float64\n",
            " 13  hc           3440 non-null   float64\n",
            " 14  cy           2919 non-null   object \n",
            " 15  ll           2919 non-null   object \n",
            " 16  _heartbeat_  120 non-null    float64\n",
            " 17  kw           93 non-null     object \n",
            "dtypes: float64(4), object(14)\n",
            "memory usage: 500.8+ KB\n"
          ]
        },
        {
          "output_type": "execute_result",
          "data": {
            "text/plain": [
              "0     America/New_York\n",
              "1       America/Denver\n",
              "2     America/New_York\n",
              "3    America/Sao_Paulo\n",
              "4     America/New_York\n",
              "5     America/New_York\n",
              "6        Europe/Warsaw\n",
              "7                     \n",
              "8                     \n",
              "9                     \n",
              "Name: tz, dtype: object"
            ]
          },
          "metadata": {},
          "execution_count": 13
        }
      ]
    },
    {
      "cell_type": "code",
      "source": [
        "tz_counts = frame['tz'].value_counts()\n",
        "tz_counts[:10]"
      ],
      "metadata": {
        "colab": {
          "base_uri": "https://localhost:8080/"
        },
        "id": "pGC2Q4Uv9SAj",
        "outputId": "2e0e336d-ad95-40a4-8855-b792ae775f54"
      },
      "execution_count": 14,
      "outputs": [
        {
          "output_type": "execute_result",
          "data": {
            "text/plain": [
              "America/New_York       1251\n",
              "                        521\n",
              "America/Chicago         400\n",
              "America/Los_Angeles     382\n",
              "America/Denver          191\n",
              "Europe/London            74\n",
              "Asia/Tokyo               37\n",
              "Pacific/Honolulu         36\n",
              "Europe/Madrid            35\n",
              "America/Sao_Paulo        33\n",
              "Name: tz, dtype: int64"
            ]
          },
          "metadata": {},
          "execution_count": 14
        }
      ]
    },
    {
      "cell_type": "code",
      "source": [
        "clean_tz = frame['tz'].fillna('Missing')\n",
        "clean_tz[clean_tz == ''] = 'Unknown'\n",
        "tz_counts = clean_tz.value_counts()\n",
        "tz_counts[:10]"
      ],
      "metadata": {
        "colab": {
          "base_uri": "https://localhost:8080/"
        },
        "id": "L8H6ir6j9bFq",
        "outputId": "e7405c6f-388d-4bda-bc43-d7de8b351724"
      },
      "execution_count": 15,
      "outputs": [
        {
          "output_type": "execute_result",
          "data": {
            "text/plain": [
              "America/New_York       1251\n",
              "Unknown                 521\n",
              "America/Chicago         400\n",
              "America/Los_Angeles     382\n",
              "America/Denver          191\n",
              "Missing                 120\n",
              "Europe/London            74\n",
              "Asia/Tokyo               37\n",
              "Pacific/Honolulu         36\n",
              "Europe/Madrid            35\n",
              "Name: tz, dtype: int64"
            ]
          },
          "metadata": {},
          "execution_count": 15
        }
      ]
    },
    {
      "cell_type": "markdown",
      "source": [
        "### 5. Visualize this data using matplotlib and Seaborn"
      ],
      "metadata": {
        "id": "Z-J8b4FT-aO6"
      }
    },
    {
      "cell_type": "code",
      "source": [
        "plt.figure(figsize=(10, 4))"
      ],
      "metadata": {
        "colab": {
          "base_uri": "https://localhost:8080/",
          "height": 0
        },
        "id": "14tWyAi99u_N",
        "outputId": "b9ba4785-366b-4f42-a817-8562ef2d3386"
      },
      "execution_count": 16,
      "outputs": [
        {
          "output_type": "execute_result",
          "data": {
            "text/plain": [
              "<Figure size 720x288 with 0 Axes>"
            ]
          },
          "metadata": {},
          "execution_count": 16
        },
        {
          "output_type": "display_data",
          "data": {
            "text/plain": [
              "<Figure size 720x288 with 0 Axes>"
            ]
          },
          "metadata": {}
        }
      ]
    },
    {
      "cell_type": "code",
      "source": [
        "import seaborn as sns\n",
        "subset = tz_counts[:10]\n",
        "sns.barplot(y=subset.index, x=subset.values)"
      ],
      "metadata": {
        "colab": {
          "base_uri": "https://localhost:8080/",
          "height": 0
        },
        "id": "l3eKz3gA95nf",
        "outputId": "1d7b75e9-cf62-4518-f854-e96a52d6d056"
      },
      "execution_count": 17,
      "outputs": [
        {
          "output_type": "execute_result",
          "data": {
            "text/plain": [
              "<matplotlib.axes._subplots.AxesSubplot at 0x7f9bcc9e56d0>"
            ]
          },
          "metadata": {},
          "execution_count": 17
        },
        {
          "output_type": "display_data",
          "data": {
            "text/plain": [
              "<Figure size 720x432 with 1 Axes>"
            ],
            "image/png": "[encoded data removed]"
          },
          "metadata": {
            "needs_background": "light"
          }
        }
      ]
    },
    {
      "cell_type": "code",
      "source": [
        "frame['a'][1]\n",
        "frame['a'][50]\n",
        "frame['a'][51][:50] # long line"
      ],
      "metadata": {
        "colab": {
          "base_uri": "https://localhost:8080/",
          "height": 0
        },
        "id": "Le2PqSof-RK2",
        "outputId": "5b8326f6-6433-46aa-b6cf-2981b5fc421e"
      },
      "execution_count": 18,
      "outputs": [
        {
          "output_type": "execute_result",
          "data": {
            "text/plain": [
              "'Mozilla/5.0 (Linux; U; Android 2.2.2; en-us; LG-P9'"
            ],
            "application/vnd.google.colaboratory.intrinsic+json": {
              "type": "string"
            }
          },
          "metadata": {},
          "execution_count": 18
        }
      ]
    },
    {
      "cell_type": "code",
      "source": [
        "results = pd.Series([x.split()[0] for x in frame.a.dropna()])\n",
        "results[:5]\n",
        "results.value_counts()[:8]"
      ],
      "metadata": {
        "colab": {
          "base_uri": "https://localhost:8080/"
        },
        "id": "SbKE04LCAAYh",
        "outputId": "01b5ffbd-8ce7-4f68-f3e3-39df54373963"
      },
      "execution_count": 19,
      "outputs": [
        {
          "output_type": "execute_result",
          "data": {
            "text/plain": [
              "Mozilla/5.0                 2594\n",
              "Mozilla/4.0                  601\n",
              "GoogleMaps/RochesterNY       121\n",
              "Opera/9.80                    34\n",
              "TEST_INTERNET_AGENT           24\n",
              "GoogleProducer                21\n",
              "Mozilla/6.0                    5\n",
              "BlackBerry8520/5.0.0.681       4\n",
              "dtype: int64"
            ]
          },
          "metadata": {},
          "execution_count": 19
        }
      ]
    },
    {
      "cell_type": "code",
      "source": [
        "cframe = frame[frame.a.notnull()]"
      ],
      "metadata": {
        "id": "OrUFAcknADZY"
      },
      "execution_count": 20,
      "outputs": []
    },
    {
      "cell_type": "code",
      "source": [
        "cframe = cframe.copy()"
      ],
      "metadata": {
        "id": "S5rPTPFBAFYq"
      },
      "execution_count": 21,
      "outputs": []
    },
    {
      "cell_type": "code",
      "source": [
        "cframe['os'] = np.where(cframe['a'].str.contains('Windows'),\n",
        "'Windows', 'Not Windows')\n",
        "cframe['os'][:5]"
      ],
      "metadata": {
        "colab": {
          "base_uri": "https://localhost:8080/"
        },
        "id": "dcW9e8BQAGk4",
        "outputId": "6ae84038-93e5-45d4-cb0f-2dfb72313e50"
      },
      "execution_count": 22,
      "outputs": [
        {
          "output_type": "execute_result",
          "data": {
            "text/plain": [
              "0        Windows\n",
              "1    Not Windows\n",
              "2        Windows\n",
              "3    Not Windows\n",
              "4        Windows\n",
              "Name: os, dtype: object"
            ]
          },
          "metadata": {},
          "execution_count": 22
        }
      ]
    },
    {
      "cell_type": "code",
      "source": [
        "by_tz_os = cframe.groupby(['tz', 'os'])"
      ],
      "metadata": {
        "id": "H1qyoCBFAKKz"
      },
      "execution_count": 23,
      "outputs": []
    },
    {
      "cell_type": "code",
      "source": [
        "agg_counts = by_tz_os.size().unstack().fillna(0)\n",
        "agg_counts[:10]"
      ],
      "metadata": {
        "colab": {
          "base_uri": "https://localhost:8080/",
          "height": 0
        },
        "id": "rFcCj2XfAMz8",
        "outputId": "37ec8332-abc9-41d2-b4d3-fc91f2b46db4"
      },
      "execution_count": 24,
      "outputs": [
        {
          "output_type": "execute_result",
          "data": {
            "text/plain": [
              "os                              Not Windows  Windows\n",
              "tz                                                  \n",
              "                                      245.0    276.0\n",
              "Africa/Cairo                            0.0      3.0\n",
              "Africa/Casablanca                       0.0      1.0\n",
              "Africa/Ceuta                            0.0      2.0\n",
              "Africa/Johannesburg                     0.0      1.0\n",
              "Africa/Lusaka                           0.0      1.0\n",
              "America/Anchorage                       4.0      1.0\n",
              "America/Argentina/Buenos_Aires          1.0      0.0\n",
              "America/Argentina/Cordoba               0.0      1.0\n",
              "America/Argentina/Mendoza               0.0      1.0"
            ],
            "text/html": [
              "\n",
              "  <div id=\"df-ffb0ed11-7d44-406f-91f7-c6fe569a0d15\">\n",
              "    <div class=\"colab-df-container\">\n",
              "      <div>\n",
              "<style scoped>\n",
              "    .dataframe tbody tr th:only-of-type {\n",
              "        vertical-align: middle;\n",
              "    }\n",
              "\n",
              "    .dataframe tbody tr th {\n",
              "        vertical-align: top;\n",
              "    }\n",
              "\n",
              "    .dataframe thead th {\n",
              "        text-align: right;\n",
              "    }\n",
              "</style>\n",
              "<table border=\"1\" class=\"dataframe\">\n",
              "  <thead>\n",
              "    <tr style=\"text-align: right;\">\n",
              "      <th>os</th>\n",
              "      <th>Not Windows</th>\n",
              "      <th>Windows</th>\n",
              "    </tr>\n",
              "    <tr>\n",
              "      <th>tz</th>\n",
              "      <th></th>\n",
              "      <th></th>\n",
              "    </tr>\n",
              "  </thead>\n",
              "  <tbody>\n",
              "    <tr>\n",
              "      <th></th>\n",
              "      <td>245.0</td>\n",
              "      <td>276.0</td>\n",
              "    </tr>\n",
              "    <tr>\n",
              "      <th>Africa/Cairo</th>\n",
              "      <td>0.0</td>\n",
              "      <td>3.0</td>\n",
              "    </tr>\n",
              "    <tr>\n",
              "      <th>Africa/Casablanca</th>\n",
              "      <td>0.0</td>\n",
              "      <td>1.0</td>\n",
              "    </tr>\n",
              "    <tr>\n",
              "      <th>Africa/Ceuta</th>\n",
              "      <td>0.0</td>\n",
              "      <td>2.0</td>\n",
              "    </tr>\n",
              "    <tr>\n",
              "      <th>Africa/Johannesburg</th>\n",
              "      <td>0.0</td>\n",
              "      <td>1.0</td>\n",
              "    </tr>\n",
              "    <tr>\n",
              "      <th>Africa/Lusaka</th>\n",
              "      <td>0.0</td>\n",
              "      <td>1.0</td>\n",
              "    </tr>\n",
              "    <tr>\n",
              "      <th>America/Anchorage</th>\n",
              "      <td>4.0</td>\n",
              "      <td>1.0</td>\n",
              "    </tr>\n",
              "    <tr>\n",
              "      <th>America/Argentina/Buenos_Aires</th>\n",
              "      <td>1.0</td>\n",
              "      <td>0.0</td>\n",
              "    </tr>\n",
              "    <tr>\n",
              "      <th>America/Argentina/Cordoba</th>\n",
              "      <td>0.0</td>\n",
              "      <td>1.0</td>\n",
              "    </tr>\n",
              "    <tr>\n",
              "      <th>America/Argentina/Mendoza</th>\n",
              "      <td>0.0</td>\n",
              "      <td>1.0</td>\n",
              "    </tr>\n",
              "  </tbody>\n",
              "</table>\n",
              "</div>\n",
              "      <button class=\"colab-df-convert\" onclick=\"convertToInteractive('df-ffb0ed11-7d44-406f-91f7-c6fe569a0d15')\"\n",
              "              title=\"Convert this dataframe to an interactive table.\"\n",
              "              style=\"display:none;\">\n",
              "        \n",
              "  <svg xmlns=\"http://www.w3.org/2000/svg\" height=\"24px\"viewBox=\"0 0 24 24\"\n",
              "       width=\"24px\">\n",
              "    <path d=\"M0 0h24v24H0V0z\" fill=\"none\"/>\n",
              "    <path d=\"M18.56 5.44l.94 2.06.94-2.06 2.06-.94-2.06-.94-.94-2.06-.94 2.06-2.06.94zm-11 1L8.5 8.5l.94-2.06 2.06-.94-2.06-.94L8.5 2.5l-.94 2.06-2.06.94zm10 10l.94 2.06.94-2.06 2.06-.94-2.06-.94-.94-2.06-.94 2.06-2.06.94z\"/><path d=\"M17.41 7.96l-1.37-1.37c-.4-.4-.92-.59-1.43-.59-.52 0-1.04.2-1.43.59L10.3 9.45l-7.72 7.72c-.78.78-.78 2.05 0 2.83L4 21.41c.39.39.9.59 1.41.59.51 0 1.02-.2 1.41-.59l7.78-7.78 2.81-2.81c.8-.78.8-2.07 0-2.86zM5.41 20L4 18.59l7.72-7.72 1.47 1.35L5.41 20z\"/>\n",
              "  </svg>\n",
              "      </button>\n",
              "      \n",
              "  <style>\n",
              "    .colab-df-container {\n",
              "      display:flex;\n",
              "      flex-wrap:wrap;\n",
              "      gap: 12px;\n",
              "    }\n",
              "\n",
              "    .colab-df-convert {\n",
              "      background-color: #E8F0FE;\n",
              "      border: none;\n",
              "      border-radius: 50%;\n",
              "      cursor: pointer;\n",
              "      display: none;\n",
              "      fill: #1967D2;\n",
              "      height: 32px;\n",
              "      padding: 0 0 0 0;\n",
              "      width: 32px;\n",
              "    }\n",
              "\n",
              "    .colab-df-convert:hover {\n",
              "      background-color: #E2EBFA;\n",
              "      box-shadow: 0px 1px 2px rgba(60, 64, 67, 0.3), 0px 1px 3px 1px rgba(60, 64, 67, 0.15);\n",
              "      fill: #174EA6;\n",
              "    }\n",
              "\n",
              "    [theme=dark] .colab-df-convert {\n",
              "      background-color: #3B4455;\n",
              "      fill: #D2E3FC;\n",
              "    }\n",
              "\n",
              "    [theme=dark] .colab-df-convert:hover {\n",
              "      background-color: #434B5C;\n",
              "      box-shadow: 0px 1px 3px 1px rgba(0, 0, 0, 0.15);\n",
              "      filter: drop-shadow(0px 1px 2px rgba(0, 0, 0, 0.3));\n",
              "      fill: #FFFFFF;\n",
              "    }\n",
              "  </style>\n",
              "\n",
              "      <script>\n",
              "        const buttonEl =\n",
              "          document.querySelector('#df-ffb0ed11-7d44-406f-91f7-c6fe569a0d15 button.colab-df-convert');\n",
              "        buttonEl.style.display =\n",
              "          google.colab.kernel.accessAllowed ? 'block' : 'none';\n",
              "\n",
              "        async function convertToInteractive(key) {\n",
              "          const element = document.querySelector('#df-ffb0ed11-7d44-406f-91f7-c6fe569a0d15');\n",
              "          const dataTable =\n",
              "            await google.colab.kernel.invokeFunction('convertToInteractive',\n",
              "                                                     [key], {});\n",
              "          if (!dataTable) return;\n",
              "\n",
              "          const docLinkHtml = 'Like what you see? Visit the ' +\n",
              "            '<a target=\"_blank\" href=https://colab.research.google.com/notebooks/data_table.ipynb>data table notebook</a>'\n",
              "            + ' to learn more about interactive tables.';\n",
              "          element.innerHTML = '';\n",
              "          dataTable['output_type'] = 'display_data';\n",
              "          await google.colab.output.renderOutput(dataTable, element);\n",
              "          const docLink = document.createElement('div');\n",
              "          docLink.innerHTML = docLinkHtml;\n",
              "          element.appendChild(docLink);\n",
              "        }\n",
              "      </script>\n",
              "    </div>\n",
              "  </div>\n",
              "  "
            ]
          },
          "metadata": {},
          "execution_count": 24
        }
      ]
    },
    {
      "cell_type": "code",
      "source": [
        "# Use to sort in ascending order\n",
        "indexer = agg_counts.sum(1).argsort()\n",
        "indexer[:10]"
      ],
      "metadata": {
        "colab": {
          "base_uri": "https://localhost:8080/"
        },
        "id": "DUL0ctK2ASOA",
        "outputId": "943b5626-baa8-44c3-e486-a1dcd8d63c59"
      },
      "execution_count": 25,
      "outputs": [
        {
          "output_type": "execute_result",
          "data": {
            "text/plain": [
              "tz\n",
              "                                  24\n",
              "Africa/Cairo                      20\n",
              "Africa/Casablanca                 21\n",
              "Africa/Ceuta                      92\n",
              "Africa/Johannesburg               87\n",
              "Africa/Lusaka                     53\n",
              "America/Anchorage                 54\n",
              "America/Argentina/Buenos_Aires    57\n",
              "America/Argentina/Cordoba         26\n",
              "America/Argentina/Mendoza         55\n",
              "dtype: int64"
            ]
          },
          "metadata": {},
          "execution_count": 25
        }
      ]
    },
    {
      "cell_type": "code",
      "source": [
        "count_subset = agg_counts.take(indexer[-10:])\n",
        "count_subset"
      ],
      "metadata": {
        "colab": {
          "base_uri": "https://localhost:8080/",
          "height": 0
        },
        "id": "YIMrivtQAU_c",
        "outputId": "8465dfb9-9281-46bb-f13e-acd24459040a"
      },
      "execution_count": 26,
      "outputs": [
        {
          "output_type": "execute_result",
          "data": {
            "text/plain": [
              "os                   Not Windows  Windows\n",
              "tz                                       \n",
              "America/Sao_Paulo           13.0     20.0\n",
              "Europe/Madrid               16.0     19.0\n",
              "Pacific/Honolulu             0.0     36.0\n",
              "Asia/Tokyo                   2.0     35.0\n",
              "Europe/London               43.0     31.0\n",
              "America/Denver             132.0     59.0\n",
              "America/Los_Angeles        130.0    252.0\n",
              "America/Chicago            115.0    285.0\n",
              "                           245.0    276.0\n",
              "America/New_York           339.0    912.0"
            ],
            "text/html": [
              "\n",
              "  <div id=\"df-410df31f-374a-4737-930d-044b06e4d13c\">\n",
              "    <div class=\"colab-df-container\">\n",
              "      <div>\n",
              "<style scoped>\n",
              "    .dataframe tbody tr th:only-of-type {\n",
              "        vertical-align: middle;\n",
              "    }\n",
              "\n",
              "    .dataframe tbody tr th {\n",
              "        vertical-align: top;\n",
              "    }\n",
              "\n",
              "    .dataframe thead th {\n",
              "        text-align: right;\n",
              "    }\n",
              "</style>\n",
              "<table border=\"1\" class=\"dataframe\">\n",
              "  <thead>\n",
              "    <tr style=\"text-align: right;\">\n",
              "      <th>os</th>\n",
              "      <th>Not Windows</th>\n",
              "      <th>Windows</th>\n",
              "    </tr>\n",
              "    <tr>\n",
              "      <th>tz</th>\n",
              "      <th></th>\n",
              "      <th></th>\n",
              "    </tr>\n",
              "  </thead>\n",
              "  <tbody>\n",
              "    <tr>\n",
              "      <th>America/Sao_Paulo</th>\n",
              "      <td>13.0</td>\n",
              "      <td>20.0</td>\n",
              "    </tr>\n",
              "    <tr>\n",
              "      <th>Europe/Madrid</th>\n",
              "      <td>16.0</td>\n",
              "      <td>19.0</td>\n",
              "    </tr>\n",
              "    <tr>\n",
              "      <th>Pacific/Honolulu</th>\n",
              "      <td>0.0</td>\n",
              "      <td>36.0</td>\n",
              "    </tr>\n",
              "    <tr>\n",
              "      <th>Asia/Tokyo</th>\n",
              "      <td>2.0</td>\n",
              "      <td>35.0</td>\n",
              "    </tr>\n",
              "    <tr>\n",
              "      <th>Europe/London</th>\n",
              "      <td>43.0</td>\n",
              "      <td>31.0</td>\n",
              "    </tr>\n",
              "    <tr>\n",
              "      <th>America/Denver</th>\n",
              "      <td>132.0</td>\n",
              "      <td>59.0</td>\n",
              "    </tr>\n",
              "    <tr>\n",
              "      <th>America/Los_Angeles</th>\n",
              "      <td>130.0</td>\n",
              "      <td>252.0</td>\n",
              "    </tr>\n",
              "    <tr>\n",
              "      <th>America/Chicago</th>\n",
              "      <td>115.0</td>\n",
              "      <td>285.0</td>\n",
              "    </tr>\n",
              "    <tr>\n",
              "      <th></th>\n",
              "      <td>245.0</td>\n",
              "      <td>276.0</td>\n",
              "    </tr>\n",
              "    <tr>\n",
              "      <th>America/New_York</th>\n",
              "      <td>339.0</td>\n",
              "      <td>912.0</td>\n",
              "    </tr>\n",
              "  </tbody>\n",
              "</table>\n",
              "</div>\n",
              "      <button class=\"colab-df-convert\" onclick=\"convertToInteractive('df-410df31f-374a-4737-930d-044b06e4d13c')\"\n",
              "              title=\"Convert this dataframe to an interactive table.\"\n",
              "              style=\"display:none;\">\n",
              "        \n",
              "  <svg xmlns=\"http://www.w3.org/2000/svg\" height=\"24px\"viewBox=\"0 0 24 24\"\n",
              "       width=\"24px\">\n",
              "    <path d=\"M0 0h24v24H0V0z\" fill=\"none\"/>\n",
              "    <path d=\"M18.56 5.44l.94 2.06.94-2.06 2.06-.94-2.06-.94-.94-2.06-.94 2.06-2.06.94zm-11 1L8.5 8.5l.94-2.06 2.06-.94-2.06-.94L8.5 2.5l-.94 2.06-2.06.94zm10 10l.94 2.06.94-2.06 2.06-.94-2.06-.94-.94-2.06-.94 2.06-2.06.94z\"/><path d=\"M17.41 7.96l-1.37-1.37c-.4-.4-.92-.59-1.43-.59-.52 0-1.04.2-1.43.59L10.3 9.45l-7.72 7.72c-.78.78-.78 2.05 0 2.83L4 21.41c.39.39.9.59 1.41.59.51 0 1.02-.2 1.41-.59l7.78-7.78 2.81-2.81c.8-.78.8-2.07 0-2.86zM5.41 20L4 18.59l7.72-7.72 1.47 1.35L5.41 20z\"/>\n",
              "  </svg>\n",
              "      </button>\n",
              "      \n",
              "  <style>\n",
              "    .colab-df-container {\n",
              "      display:flex;\n",
              "      flex-wrap:wrap;\n",
              "      gap: 12px;\n",
              "    }\n",
              "\n",
              "    .colab-df-convert {\n",
              "      background-color: #E8F0FE;\n",
              "      border: none;\n",
              "      border-radius: 50%;\n",
              "      cursor: pointer;\n",
              "      display: none;\n",
              "      fill: #1967D2;\n",
              "      height: 32px;\n",
              "      padding: 0 0 0 0;\n",
              "      width: 32px;\n",
              "    }\n",
              "\n",
              "    .colab-df-convert:hover {\n",
              "      background-color: #E2EBFA;\n",
              "      box-shadow: 0px 1px 2px rgba(60, 64, 67, 0.3), 0px 1px 3px 1px rgba(60, 64, 67, 0.15);\n",
              "      fill: #174EA6;\n",
              "    }\n",
              "\n",
              "    [theme=dark] .colab-df-convert {\n",
              "      background-color: #3B4455;\n",
              "      fill: #D2E3FC;\n",
              "    }\n",
              "\n",
              "    [theme=dark] .colab-df-convert:hover {\n",
              "      background-color: #434B5C;\n",
              "      box-shadow: 0px 1px 3px 1px rgba(0, 0, 0, 0.15);\n",
              "      filter: drop-shadow(0px 1px 2px rgba(0, 0, 0, 0.3));\n",
              "      fill: #FFFFFF;\n",
              "    }\n",
              "  </style>\n",
              "\n",
              "      <script>\n",
              "        const buttonEl =\n",
              "          document.querySelector('#df-410df31f-374a-4737-930d-044b06e4d13c button.colab-df-convert');\n",
              "        buttonEl.style.display =\n",
              "          google.colab.kernel.accessAllowed ? 'block' : 'none';\n",
              "\n",
              "        async function convertToInteractive(key) {\n",
              "          const element = document.querySelector('#df-410df31f-374a-4737-930d-044b06e4d13c');\n",
              "          const dataTable =\n",
              "            await google.colab.kernel.invokeFunction('convertToInteractive',\n",
              "                                                     [key], {});\n",
              "          if (!dataTable) return;\n",
              "\n",
              "          const docLinkHtml = 'Like what you see? Visit the ' +\n",
              "            '<a target=\"_blank\" href=https://colab.research.google.com/notebooks/data_table.ipynb>data table notebook</a>'\n",
              "            + ' to learn more about interactive tables.';\n",
              "          element.innerHTML = '';\n",
              "          dataTable['output_type'] = 'display_data';\n",
              "          await google.colab.output.renderOutput(dataTable, element);\n",
              "          const docLink = document.createElement('div');\n",
              "          docLink.innerHTML = docLinkHtml;\n",
              "          element.appendChild(docLink);\n",
              "        }\n",
              "      </script>\n",
              "    </div>\n",
              "  </div>\n",
              "  "
            ]
          },
          "metadata": {},
          "execution_count": 26
        }
      ]
    },
    {
      "cell_type": "code",
      "source": [
        "agg_counts.sum(1).nlargest(10)"
      ],
      "metadata": {
        "colab": {
          "base_uri": "https://localhost:8080/"
        },
        "id": "qO4DQvyCAW70",
        "outputId": "a82aa6bf-3490-4ac7-8dd1-1ed7be1c8648"
      },
      "execution_count": 27,
      "outputs": [
        {
          "output_type": "execute_result",
          "data": {
            "text/plain": [
              "tz\n",
              "America/New_York       1251.0\n",
              "                        521.0\n",
              "America/Chicago         400.0\n",
              "America/Los_Angeles     382.0\n",
              "America/Denver          191.0\n",
              "Europe/London            74.0\n",
              "Asia/Tokyo               37.0\n",
              "Pacific/Honolulu         36.0\n",
              "Europe/Madrid            35.0\n",
              "America/Sao_Paulo        33.0\n",
              "dtype: float64"
            ]
          },
          "metadata": {},
          "execution_count": 27
        }
      ]
    },
    {
      "cell_type": "code",
      "source": [
        "plt.figure()"
      ],
      "metadata": {
        "colab": {
          "base_uri": "https://localhost:8080/",
          "height": 0
        },
        "id": "7TtXvVOyAYHe",
        "outputId": "8580be80-fce3-4e31-9f64-11b899443e9a"
      },
      "execution_count": 28,
      "outputs": [
        {
          "output_type": "execute_result",
          "data": {
            "text/plain": [
              "<Figure size 720x432 with 0 Axes>"
            ]
          },
          "metadata": {},
          "execution_count": 28
        },
        {
          "output_type": "display_data",
          "data": {
            "text/plain": [
              "<Figure size 720x432 with 0 Axes>"
            ]
          },
          "metadata": {}
        }
      ]
    },
    {
      "cell_type": "code",
      "source": [
        "# Rearrange the data for plotting\n",
        "count_subset = count_subset.stack()\n",
        "count_subset.name = 'total'\n",
        "count_subset = count_subset.reset_index()\n",
        "count_subset[:10]\n",
        "sns.barplot(x='total', y='tz', hue='os', data=count_subset)"
      ],
      "metadata": {
        "colab": {
          "base_uri": "https://localhost:8080/",
          "height": 0
        },
        "id": "wXQUiuX1AZN_",
        "outputId": "fd6b3437-6385-49f9-c1c6-cfba964d6da9"
      },
      "execution_count": 29,
      "outputs": [
        {
          "output_type": "execute_result",
          "data": {
            "text/plain": [
              "<matplotlib.axes._subplots.AxesSubplot at 0x7f9bcc464b90>"
            ]
          },
          "metadata": {},
          "execution_count": 29
        },
        {
          "output_type": "display_data",
          "data": {
            "text/plain": [
              "<Figure size 720x432 with 1 Axes>"
            ],
            "image/png": "[encoded data removed]"
          },
          "metadata": {
            "needs_background": "light"
          }
        }
      ]
    },
    {
      "cell_type": "code",
      "source": [
        "def norm_total(group):\n",
        "  group['normed_total'] = group.total / group.total.sum()\n",
        "  return group\n",
        "\n",
        "results = count_subset.groupby('tz').apply(norm_total)"
      ],
      "metadata": {
        "id": "ehjtXflNAcK7"
      },
      "execution_count": 30,
      "outputs": []
    },
    {
      "cell_type": "code",
      "source": [
        "plt.figure()"
      ],
      "metadata": {
        "colab": {
          "base_uri": "https://localhost:8080/",
          "height": 0
        },
        "id": "XDZl5FuUAcq_",
        "outputId": "104b1650-ed8a-4b88-f30c-3ac3e1daa7d1"
      },
      "execution_count": 31,
      "outputs": [
        {
          "output_type": "execute_result",
          "data": {
            "text/plain": [
              "<Figure size 720x432 with 0 Axes>"
            ]
          },
          "metadata": {},
          "execution_count": 31
        },
        {
          "output_type": "display_data",
          "data": {
            "text/plain": [
              "<Figure size 720x432 with 0 Axes>"
            ]
          },
          "metadata": {}
        }
      ]
    },
    {
      "cell_type": "code",
      "source": [
        "sns.barplot(x='normed_total', y='tz', hue='os', data=results)"
      ],
      "metadata": {
        "colab": {
          "base_uri": "https://localhost:8080/",
          "height": 0
        },
        "id": "9RS_7nHVAdwA",
        "outputId": "fc683815-3c40-489e-8aa9-1e05b64e74de"
      },
      "execution_count": 32,
      "outputs": [
        {
          "output_type": "execute_result",
          "data": {
            "text/plain": [
              "<matplotlib.axes._subplots.AxesSubplot at 0x7f9bd8dae650>"
            ]
          },
          "metadata": {},
          "execution_count": 32
        },
        {
          "output_type": "display_data",
          "data": {
            "text/plain": [
              "<Figure size 720x432 with 1 Axes>"
            ],
            "image/png": "[encoded data removed]"
          },
          "metadata": {
            "needs_background": "light"
          }
        }
      ]
    },
    {
      "cell_type": "code",
      "source": [
        "g = count_subset.groupby('tz')\n",
        "results2 = count_subset.total / g.total.transform('sum')"
      ],
      "metadata": {
        "id": "kuWXl4LhAfeZ"
      },
      "execution_count": 33,
      "outputs": []
    }
  ]
}