{
  "nbformat": 4,
  "nbformat_minor": 0,
  "metadata": {
    "colab": {
      "provenance": []
    },
    "kernelspec": {
      "name": "python3",
      "display_name": "Python 3"
    },
    "language_info": {
      "name": "python"
    }
  },
  "cells": [
    {
      "cell_type": "markdown",
      "source": [
        "[**KRITIK AGARWAL 19BBTCS067**](https://github.com/Kritik007)"
      ],
      "metadata": {
        "id": "oRvdoI1Yw1yH"
      }
    },
    {
      "cell_type": "markdown",
      "source": [
        "***DAP Lab Exp.No.2***"
      ],
      "metadata": {
        "id": "VuDDOmzCw1kX"
      }
    },
    {
      "cell_type": "markdown",
      "source": [
        "Python String Functions: Write a program to explore different string functions"
      ],
      "metadata": {
        "id": "dpce4Sgjw1bH"
      }
    },
    {
      "cell_type": "code",
      "source": [
        "# Creating Strings in Python\n",
        "# defining strings in Python\n",
        "# all of the following are equivalent\n",
        "my_string = 'Hello'\n",
        "print(my_string)\n",
        "\n",
        "my_string = \"Hello\"\n",
        "print(my_string)\n",
        "\n",
        "my_string = '''Hello'''\n",
        "print(my_string)\n",
        "\n",
        "# triple quotes string can extend multiple lines\n",
        "my_string = \"\"\"Hello, Welcome to\n",
        "       CMR University\"\"\"\n",
        "print(my_string)"
      ],
      "metadata": {
        "colab": {
          "base_uri": "https://localhost:8080/"
        },
        "id": "StZmbxkMw0-r",
        "outputId": "fe27b0ad-12d0-4e19-eccb-004afa7fe478"
      },
      "execution_count": 1,
      "outputs": [
        {
          "output_type": "stream",
          "name": "stdout",
          "text": [
            "Hello\n",
            "Hello\n",
            "Hello\n",
            "Hello, Welcome to\n",
            "       CMR University\n"
          ]
        }
      ]
    },
    {
      "cell_type": "code",
      "source": [
        "# capitalize() function\n",
        "\n",
        "string = \"cmr university soet\"\n",
        "print(string.capitalize())"
      ],
      "metadata": {
        "colab": {
          "base_uri": "https://localhost:8080/"
        },
        "id": "kkXpkc-Qw02F",
        "outputId": "00b1c70f-d536-472f-dd50-0ccc01fafe93"
      },
      "execution_count": 2,
      "outputs": [
        {
          "output_type": "stream",
          "name": "stdout",
          "text": [
            "Cmr university soet\n"
          ]
        }
      ]
    },
    {
      "cell_type": "code",
      "execution_count": 3,
      "metadata": {
        "colab": {
          "base_uri": "https://localhost:8080/"
        },
        "id": "GV6O_5sjwyQC",
        "outputId": "0a256e5e-1085-444f-e998-957c3859734e"
      },
      "outputs": [
        {
          "output_type": "stream",
          "name": "stdout",
          "text": [
            "cmr university soet\n"
          ]
        }
      ],
      "source": [
        "# lower() function\n",
        "\n",
        "string = \"Cmr University SoET\"\n",
        "print(string.lower())"
      ]
    },
    {
      "cell_type": "code",
      "source": [
        "# casefold() function\n",
        "\n",
        "string = \"Cmr University SoET\"\n",
        "print(string.casefold())"
      ],
      "metadata": {
        "colab": {
          "base_uri": "https://localhost:8080/"
        },
        "id": "dxgGR81YyzEO",
        "outputId": "523444bc-c296-4125-846e-f5234ca84a8e"
      },
      "execution_count": 4,
      "outputs": [
        {
          "output_type": "stream",
          "name": "stdout",
          "text": [
            "cmr university soet\n"
          ]
        }
      ]
    },
    {
      "cell_type": "code",
      "source": [
        "# upper() function\n",
        "\n",
        "string = \"cmr university is one of the top university in karnataka\"\n",
        "print(string.upper())"
      ],
      "metadata": {
        "colab": {
          "base_uri": "https://localhost:8080/"
        },
        "id": "oxxv7XwJyJVU",
        "outputId": "5bee89a8-9f2e-4878-9404-54e84c4dc6ae"
      },
      "execution_count": 5,
      "outputs": [
        {
          "output_type": "stream",
          "name": "stdout",
          "text": [
            "CMR UNIVERSITY IS ONE OF THE TOP UNIVERSITY IN KARNATAKA\n"
          ]
        }
      ]
    },
    {
      "cell_type": "code",
      "source": [
        "# title() function\n",
        "\n",
        "string = \"cmr university soet\"\n",
        "print(string.title())"
      ],
      "metadata": {
        "colab": {
          "base_uri": "https://localhost:8080/"
        },
        "id": "slO_vC0kyfm9",
        "outputId": "a4d47701-22f9-4209-c1fe-c56df188b97b"
      },
      "execution_count": 6,
      "outputs": [
        {
          "output_type": "stream",
          "name": "stdout",
          "text": [
            "Cmr University Soet\n"
          ]
        }
      ]
    },
    {
      "cell_type": "code",
      "source": [
        "# count() function\n",
        "\n",
        "string = \"Cmr University SoET\"\n",
        "print(string.count('i'))"
      ],
      "metadata": {
        "colab": {
          "base_uri": "https://localhost:8080/"
        },
        "id": "yXC6z8YizLBy",
        "outputId": "f1a091f1-9bba-4d09-dc6f-0bfb01ed5610"
      },
      "execution_count": 7,
      "outputs": [
        {
          "output_type": "stream",
          "name": "stdout",
          "text": [
            "2\n"
          ]
        }
      ]
    },
    {
      "cell_type": "code",
      "source": [
        "# find() function\n",
        "\n",
        "string = \"Cmr University SoET\"\n",
        "print(string.find('U'))"
      ],
      "metadata": {
        "colab": {
          "base_uri": "https://localhost:8080/"
        },
        "id": "v-3j6NlMzV94",
        "outputId": "f10088bd-6651-4f21-c4ca-e2629ed0e06f"
      },
      "execution_count": 8,
      "outputs": [
        {
          "output_type": "stream",
          "name": "stdout",
          "text": [
            "4\n"
          ]
        }
      ]
    },
    {
      "cell_type": "code",
      "source": [
        "# replace() function\n",
        "\n",
        "string = \"Cmr University SoET\"\n",
        "print(string.replace(\"Cmr\", \"CMR\"))"
      ],
      "metadata": {
        "colab": {
          "base_uri": "https://localhost:8080/"
        },
        "id": "ybSEZVOmzbb6",
        "outputId": "42141e82-6f7f-40f4-ae1f-1be57c32a7b2"
      },
      "execution_count": 9,
      "outputs": [
        {
          "output_type": "stream",
          "name": "stdout",
          "text": [
            "CMR University SoET\n"
          ]
        }
      ]
    },
    {
      "cell_type": "code",
      "source": [
        "# swapcase() function\n",
        "\n",
        "string = \"kRITIK aGARWAL 19bbtcs067\"\n",
        "print(string.swapcase())"
      ],
      "metadata": {
        "colab": {
          "base_uri": "https://localhost:8080/"
        },
        "id": "pJmv0pZKzosd",
        "outputId": "e1f2bc86-bee5-4026-e517-d60c3b5cb989"
      },
      "execution_count": 10,
      "outputs": [
        {
          "output_type": "stream",
          "name": "stdout",
          "text": [
            "Kritik Agarwal 19BBTCS067\n"
          ]
        }
      ]
    },
    {
      "cell_type": "code",
      "source": [
        "# join() function \n",
        "\n",
        "string_tuple = (\"Kritik\", \"Agarwal\", \"19BBTCS067\")\n",
        "string = \" \"\n",
        "print(string.join(string_tuple))"
      ],
      "metadata": {
        "colab": {
          "base_uri": "https://localhost:8080/"
        },
        "id": "ktdgB4BQz6hB",
        "outputId": "647964f6-ef08-460b-e2d5-ccb34269373d"
      },
      "execution_count": 11,
      "outputs": [
        {
          "output_type": "stream",
          "name": "stdout",
          "text": [
            "Kritik Agarwal 19BBTCS067\n"
          ]
        }
      ]
    }
  ]
}