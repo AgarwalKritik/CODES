{
  "nbformat": 4,
  "nbformat_minor": 0,
  "metadata": {
    "colab": {
      "provenance": [],
      "collapsed_sections": []
    },
    "kernelspec": {
      "name": "python3",
      "display_name": "Python 3"
    },
    "language_info": {
      "name": "python"
    }
  },
  "cells": [
    {
      "cell_type": "markdown",
      "source": [
        "[**KRITIK AGARWAL 19BBTCS067**](https://github.com/Kritik007)"
      ],
      "metadata": {
        "id": "A9HY2AiTVa-5"
      }
    },
    {
      "cell_type": "markdown",
      "source": [
        "***DAP Lab Exp.No.1***"
      ],
      "metadata": {
        "id": "PFLXdWWxTtoW"
      }
    },
    {
      "cell_type": "markdown",
      "source": [
        "Python Data Structures: Develop an application that uses different python data structures"
      ],
      "metadata": {
        "id": "cXrY8j-TTteH"
      }
    },
    {
      "cell_type": "markdown",
      "source": [
        "## 1. Dictionaries"
      ],
      "metadata": {
        "id": "eDRudeaMUXXY"
      }
    },
    {
      "cell_type": "code",
      "execution_count": 1,
      "metadata": {
        "id": "4ZXwOxnmS23k",
        "colab": {
          "base_uri": "https://localhost:8080/"
        },
        "outputId": "7b5d18a0-da54-4f7b-8baf-ea91abb3d2e6"
      },
      "outputs": [
        {
          "output_type": "stream",
          "name": "stdout",
          "text": [
            "{'Owner': 1, 'Admin': 2, 'Manager': 3, 'Moderator': 4}\n"
          ]
        }
      ],
      "source": [
        "# Creating a Dictionary\n",
        "# Empty Dict can be created using \n",
        "Roles = {}\n",
        "# Dictionary with Elements can be created using\n",
        "Roles = {\"Owner\":1, \"Admin\":2, \"Manager\":3, \"Moderator\":4}\n",
        "print(Roles)"
      ]
    },
    {
      "cell_type": "code",
      "source": [
        "#Displaying Keys\n",
        "Roles.keys()"
      ],
      "metadata": {
        "colab": {
          "base_uri": "https://localhost:8080/"
        },
        "id": "htGzZ-tfUnSJ",
        "outputId": "9e7966c2-120e-4920-bd29-1a25b876607a"
      },
      "execution_count": 2,
      "outputs": [
        {
          "output_type": "execute_result",
          "data": {
            "text/plain": [
              "dict_keys(['Owner', 'Admin', 'Manager', 'Moderator'])"
            ]
          },
          "metadata": {},
          "execution_count": 2
        }
      ]
    },
    {
      "cell_type": "code",
      "source": [
        "#Displaying Values\n",
        "Roles.values()"
      ],
      "metadata": {
        "colab": {
          "base_uri": "https://localhost:8080/"
        },
        "id": "watZjgmiUrKZ",
        "outputId": "ee9e65b8-3467-4958-bce5-e3575b5e4929"
      },
      "execution_count": 3,
      "outputs": [
        {
          "output_type": "execute_result",
          "data": {
            "text/plain": [
              "dict_values([1, 2, 3, 4])"
            ]
          },
          "metadata": {},
          "execution_count": 3
        }
      ]
    },
    {
      "cell_type": "code",
      "source": [
        "#Displaying Dictionary Items\n",
        "Roles.items()"
      ],
      "metadata": {
        "colab": {
          "base_uri": "https://localhost:8080/"
        },
        "id": "UjrRk5ESUxqB",
        "outputId": "4dab64ec-430a-40ed-f100-37f143b47a35"
      },
      "execution_count": 4,
      "outputs": [
        {
          "output_type": "execute_result",
          "data": {
            "text/plain": [
              "dict_items([('Owner', 1), ('Admin', 2), ('Manager', 3), ('Moderator', 4)])"
            ]
          },
          "metadata": {},
          "execution_count": 4
        }
      ]
    },
    {
      "cell_type": "code",
      "source": [
        "#Updating Values using Key\n",
        "Roles['Moderator'] = 5\n",
        "print(Roles)"
      ],
      "metadata": {
        "colab": {
          "base_uri": "https://localhost:8080/"
        },
        "id": "1kUTGk65VmXp",
        "outputId": "7091cf9a-59c2-41be-827b-a6023e9b3be8"
      },
      "execution_count": 5,
      "outputs": [
        {
          "output_type": "stream",
          "name": "stdout",
          "text": [
            "{'Owner': 1, 'Admin': 2, 'Manager': 3, 'Moderator': 5}\n"
          ]
        }
      ]
    },
    {
      "cell_type": "code",
      "source": [
        "#Updating Values using update() function\n",
        "Roles.update({'Moderator':4})\n",
        "print(Roles)"
      ],
      "metadata": {
        "colab": {
          "base_uri": "https://localhost:8080/"
        },
        "id": "bF9Oz6IAVu9Y",
        "outputId": "3d4aa07e-5c35-44a3-f37a-620b96e891ad"
      },
      "execution_count": 6,
      "outputs": [
        {
          "output_type": "stream",
          "name": "stdout",
          "text": [
            "{'Owner': 1, 'Admin': 2, 'Manager': 3, 'Moderator': 4}\n"
          ]
        }
      ]
    },
    {
      "cell_type": "code",
      "source": [
        "#Deleting an item from Dict\n",
        "del Roles['Manager'] # Or We May use Roles.pop('Manager')\n",
        "print(Roles)"
      ],
      "metadata": {
        "colab": {
          "base_uri": "https://localhost:8080/"
        },
        "id": "-JrnSJY7V5UR",
        "outputId": "c63d553a-974e-47d0-fd0b-81fa9b77fc03"
      },
      "execution_count": 7,
      "outputs": [
        {
          "output_type": "stream",
          "name": "stdout",
          "text": [
            "{'Owner': 1, 'Admin': 2, 'Moderator': 4}\n"
          ]
        }
      ]
    },
    {
      "cell_type": "code",
      "source": [
        "#Empyting entire items in the dictionary using clear()\n",
        "Roles.clear()\n",
        "print(Roles)"
      ],
      "metadata": {
        "colab": {
          "base_uri": "https://localhost:8080/"
        },
        "id": "106VofP6V-zB",
        "outputId": "6cddf91f-723c-4267-b550-13aa756f9239"
      },
      "execution_count": 8,
      "outputs": [
        {
          "output_type": "stream",
          "name": "stdout",
          "text": [
            "{}\n"
          ]
        }
      ]
    },
    {
      "cell_type": "markdown",
      "source": [
        "## 2. Lists"
      ],
      "metadata": {
        "id": "a1Y53fdFUZ2I"
      }
    },
    {
      "cell_type": "code",
      "source": [
        "#Creatung Lists\n",
        "# empty list\n",
        "my_list = []\n",
        "print(my_list)\n",
        "\n",
        "# list of integers\n",
        "my_list = [1, 2, 3]\n",
        "print(my_list)\n",
        "\n",
        "# list with mixed data types\n",
        "my_list = [1, \"Hello\", 3.4]\n",
        "print(my_list)\n",
        "\n",
        "# nested list\n",
        "my_list = [\"mouse\", [8, 4, 6], ['a']]\n",
        "print(my_list)"
      ],
      "metadata": {
        "colab": {
          "base_uri": "https://localhost:8080/"
        },
        "id": "k_WXeLpBan_E",
        "outputId": "601fd811-e280-4881-96ab-adff5734087d"
      },
      "execution_count": 9,
      "outputs": [
        {
          "output_type": "stream",
          "name": "stdout",
          "text": [
            "[]\n",
            "[1, 2, 3]\n",
            "[1, 'Hello', 3.4]\n",
            "['mouse', [8, 4, 6], ['a']]\n"
          ]
        }
      ]
    },
    {
      "cell_type": "code",
      "source": [
        "my_list = ['p', 'r', 'o', 'b', 'e']\n",
        "\n",
        "# first item\n",
        "print(my_list[0])\n",
        "\n",
        "# third item\n",
        "print(my_list[2])\n",
        "\n",
        "# fifth item\n",
        "print(my_list[4])\n",
        "\n",
        "# Nested List\n",
        "n_list = [\"Happy\", [2, 0, 1, 5]]\n",
        "\n",
        "# Nested indexing\n",
        "print(n_list[0][1])\n",
        "\n",
        "print(n_list[1][3])"
      ],
      "metadata": {
        "colab": {
          "base_uri": "https://localhost:8080/"
        },
        "id": "PdpqhMX9a1j7",
        "outputId": "3991518a-be48-413f-f491-920d674b1623"
      },
      "execution_count": 10,
      "outputs": [
        {
          "output_type": "stream",
          "name": "stdout",
          "text": [
            "p\n",
            "o\n",
            "e\n",
            "a\n",
            "5\n"
          ]
        }
      ]
    },
    {
      "cell_type": "code",
      "source": [
        "# Negative indexing in lists\n",
        "my_list = ['p','r','o','b','e']\n",
        "\n",
        "# last item\n",
        "print(my_list[-1])\n",
        "\n",
        "# fifth last item\n",
        "print(my_list[-5])"
      ],
      "metadata": {
        "colab": {
          "base_uri": "https://localhost:8080/"
        },
        "id": "TzKFrckDbhkk",
        "outputId": "e65c568f-ffcd-412e-f0f2-594c607d8876"
      },
      "execution_count": 11,
      "outputs": [
        {
          "output_type": "stream",
          "name": "stdout",
          "text": [
            "e\n",
            "p\n"
          ]
        }
      ]
    },
    {
      "cell_type": "code",
      "source": [
        "# Correcting mistake values in a list\n",
        "odd = [2, 4, 6, 8]\n",
        "\n",
        "# change the 1st item    \n",
        "odd[0] = 1            \n",
        "\n",
        "print(odd)\n",
        "\n",
        "# change 2nd to 4th items\n",
        "odd[1:4] = [3, 5, 7]  \n",
        "\n",
        "print(odd)    "
      ],
      "metadata": {
        "colab": {
          "base_uri": "https://localhost:8080/"
        },
        "id": "2FUTs0VdbeGD",
        "outputId": "fa21c9d7-5865-4771-a9c8-e7afc8e6df78"
      },
      "execution_count": 12,
      "outputs": [
        {
          "output_type": "stream",
          "name": "stdout",
          "text": [
            "[1, 4, 6, 8]\n",
            "[1, 3, 5, 7]\n"
          ]
        }
      ]
    },
    {
      "cell_type": "code",
      "source": [
        "# Concatenating and repeating lists\n",
        "odd = [1, 3, 5]\n",
        "\n",
        "print(odd + [9, 7, 5])\n",
        "\n",
        "print([\"re\"] * 3)"
      ],
      "metadata": {
        "colab": {
          "base_uri": "https://localhost:8080/"
        },
        "id": "O1uRLOtvbscW",
        "outputId": "9600d52e-6b20-4d2f-e050-3316a2d407af"
      },
      "execution_count": 13,
      "outputs": [
        {
          "output_type": "stream",
          "name": "stdout",
          "text": [
            "[1, 3, 5, 9, 7, 5]\n",
            "['re', 're', 're']\n"
          ]
        }
      ]
    },
    {
      "cell_type": "code",
      "source": [
        "# Demonstration of list insert() method\n",
        "odd = [1, 9]\n",
        "odd.insert(1,3)\n",
        "\n",
        "print(odd)\n",
        "\n",
        "odd[2:2] = [5, 7]\n",
        "\n",
        "print(odd)"
      ],
      "metadata": {
        "colab": {
          "base_uri": "https://localhost:8080/"
        },
        "id": "A7tVcU00byyo",
        "outputId": "a689ca4b-9bdc-40cf-a8d8-077526466e67"
      },
      "execution_count": 14,
      "outputs": [
        {
          "output_type": "stream",
          "name": "stdout",
          "text": [
            "[1, 3, 9]\n",
            "[1, 3, 5, 7, 9]\n"
          ]
        }
      ]
    },
    {
      "cell_type": "code",
      "source": [
        "# Deleting list items\n",
        "my_list = ['p', 'r', 'o', 'b', 'l', 'e', 'm']\n",
        "\n",
        "# delete one item\n",
        "del my_list[2]\n",
        "\n",
        "print(my_list)\n",
        "\n",
        "# delete multiple items\n",
        "del my_list[1:5]\n",
        "\n",
        "print(my_list)\n",
        "\n",
        "# delete the entire list\n",
        "del my_list"
      ],
      "metadata": {
        "colab": {
          "base_uri": "https://localhost:8080/"
        },
        "id": "7VOf2XN0b1O5",
        "outputId": "42361d28-29ce-4c99-93c2-5743f0300cb7"
      },
      "execution_count": 15,
      "outputs": [
        {
          "output_type": "stream",
          "name": "stdout",
          "text": [
            "['p', 'r', 'b', 'l', 'e', 'm']\n",
            "['p', 'm']\n"
          ]
        }
      ]
    },
    {
      "cell_type": "code",
      "source": [
        "my_list = ['p','r','o','b','l','e','m']\n",
        "my_list.remove('p')\n",
        "\n",
        "# Output: ['r', 'o', 'b', 'l', 'e', 'm']\n",
        "print(my_list)\n",
        "\n",
        "# Output: 'o'\n",
        "print(my_list.pop(1))\n",
        "\n",
        "# Output: ['r', 'b', 'l', 'e', 'm']\n",
        "print(my_list)\n",
        "\n",
        "# Output: 'm'\n",
        "print(my_list.pop())\n",
        "\n",
        "# Output: ['r', 'b', 'l', 'e']\n",
        "print(my_list)\n",
        "\n",
        "my_list.clear()\n",
        "\n",
        "# Output: []\n",
        "print(my_list)"
      ],
      "metadata": {
        "colab": {
          "base_uri": "https://localhost:8080/"
        },
        "id": "dpyWT3RPb3nR",
        "outputId": "5030f7a1-354b-48bb-dbe9-c165b5fc5cb7"
      },
      "execution_count": 16,
      "outputs": [
        {
          "output_type": "stream",
          "name": "stdout",
          "text": [
            "['r', 'o', 'b', 'l', 'e', 'm']\n",
            "o\n",
            "['r', 'b', 'l', 'e', 'm']\n",
            "m\n",
            "['r', 'b', 'l', 'e']\n",
            "[]\n"
          ]
        }
      ]
    },
    {
      "cell_type": "markdown",
      "source": [
        "## 3. Sets"
      ],
      "metadata": {
        "id": "k9TqszcVUbHg"
      }
    },
    {
      "cell_type": "code",
      "source": [
        "# Creating Sets\n",
        "# set of integers\n",
        "my_set = {1, 2, 3}\n",
        "print(my_set)\n",
        "\n",
        "# set of mixed datatypes\n",
        "my_set = {1.0, \"Hello\", (1, 2, 3)}\n",
        "print(my_set)"
      ],
      "metadata": {
        "colab": {
          "base_uri": "https://localhost:8080/"
        },
        "id": "SYKWNEDyWLkJ",
        "outputId": "5c55b87c-81a0-4d0c-81dc-72a37cc5c782"
      },
      "execution_count": 17,
      "outputs": [
        {
          "output_type": "stream",
          "name": "stdout",
          "text": [
            "{1, 2, 3}\n",
            "{1.0, 'Hello', (1, 2, 3)}\n"
          ]
        }
      ]
    },
    {
      "cell_type": "code",
      "source": [
        "# set cannot have duplicates\n",
        "my_set = {1, 2, 3, 4, 3, 2}\n",
        "print(my_set)\n",
        "\n",
        "# we can make set from a list\n",
        "my_set = set([1, 2, 3, 2])\n",
        "print(my_set)"
      ],
      "metadata": {
        "colab": {
          "base_uri": "https://localhost:8080/"
        },
        "id": "rF67SmGaWOM2",
        "outputId": "bf6bf074-a83e-4041-f883-9d70b0525585"
      },
      "execution_count": 18,
      "outputs": [
        {
          "output_type": "stream",
          "name": "stdout",
          "text": [
            "{1, 2, 3, 4}\n",
            "{1, 2, 3}\n"
          ]
        }
      ]
    },
    {
      "cell_type": "code",
      "source": [
        "# Distinguish set and dictionary while creating empty set\n",
        "\n",
        "# initialize a with {}\n",
        "a = {}\n",
        "\n",
        "# check data type of a\n",
        "print(type(a))\n",
        "\n",
        "# initialize a with set()\n",
        "a = set()\n",
        "\n",
        "# check data type of a\n",
        "print(type(a))"
      ],
      "metadata": {
        "colab": {
          "base_uri": "https://localhost:8080/"
        },
        "id": "SoLip5vCcJvF",
        "outputId": "6f6e64de-9c3a-47d4-d833-8da7561c8e9e"
      },
      "execution_count": 19,
      "outputs": [
        {
          "output_type": "stream",
          "name": "stdout",
          "text": [
            "<class 'dict'>\n",
            "<class 'set'>\n"
          ]
        }
      ]
    },
    {
      "cell_type": "code",
      "source": [
        "# initialize my_set\n",
        "my_set = {1, 3}\n",
        "print(my_set)\n",
        "\n",
        "# add an element\n",
        "my_set.add(2)\n",
        "print(my_set)\n",
        "\n",
        "# add multiple elements\n",
        "my_set.update([2, 3, 4])\n",
        "print(my_set)\n",
        "\n",
        "# add list and set\n",
        "my_set.update([4, 5], {1, 6, 8})\n",
        "print(my_set)"
      ],
      "metadata": {
        "colab": {
          "base_uri": "https://localhost:8080/"
        },
        "id": "hpDvSg3_cPml",
        "outputId": "11bb2b56-dbf3-4125-ded2-1bd3b4aa3893"
      },
      "execution_count": 20,
      "outputs": [
        {
          "output_type": "stream",
          "name": "stdout",
          "text": [
            "{1, 3}\n",
            "{1, 2, 3}\n",
            "{1, 2, 3, 4}\n",
            "{1, 2, 3, 4, 5, 6, 8}\n"
          ]
        }
      ]
    },
    {
      "cell_type": "code",
      "source": [
        "# Difference between discard() and remove()\n",
        "\n",
        "# initialize my_set\n",
        "my_set = {1, 3, 4, 5, 6}\n",
        "print(my_set)\n",
        "\n",
        "# discard an element\n",
        "# Output: {1, 3, 5, 6}\n",
        "my_set.discard(4)\n",
        "print(my_set)\n",
        "\n",
        "# remove an element\n",
        "# Output: {1, 3, 5}\n",
        "my_set.remove(6)\n",
        "print(my_set)\n",
        "\n",
        "# discard an element\n",
        "# not present in my_set\n",
        "# Output: {1, 3, 5}\n",
        "my_set.discard(2)\n",
        "print(my_set)"
      ],
      "metadata": {
        "colab": {
          "base_uri": "https://localhost:8080/"
        },
        "id": "LAhXWYYacTSW",
        "outputId": "735324d3-e420-4761-c630-93dde9b5faad"
      },
      "execution_count": 21,
      "outputs": [
        {
          "output_type": "stream",
          "name": "stdout",
          "text": [
            "{1, 3, 4, 5, 6}\n",
            "{1, 3, 5, 6}\n",
            "{1, 3, 5}\n",
            "{1, 3, 5}\n"
          ]
        }
      ]
    },
    {
      "cell_type": "code",
      "source": [
        "# initialize my_set\n",
        "# Output: set of unique elements\n",
        "my_set = set(\"HelloWorld\")\n",
        "print(my_set)\n",
        "\n",
        "# pop an element\n",
        "# Output: random element\n",
        "print(my_set.pop())\n",
        "\n",
        "# pop another element\n",
        "my_set.pop()\n",
        "print(my_set)\n",
        "\n",
        "# clear my_set\n",
        "# Output: set()\n",
        "my_set.clear()\n",
        "print(my_set)"
      ],
      "metadata": {
        "colab": {
          "base_uri": "https://localhost:8080/"
        },
        "id": "qR1CTJM6cbVX",
        "outputId": "bb3816ee-e190-444f-8451-84ee047c993c"
      },
      "execution_count": 22,
      "outputs": [
        {
          "output_type": "stream",
          "name": "stdout",
          "text": [
            "{'r', 'H', 'e', 'l', 'd', 'W', 'o'}\n",
            "r\n",
            "{'e', 'l', 'd', 'W', 'o'}\n",
            "set()\n"
          ]
        }
      ]
    },
    {
      "cell_type": "code",
      "source": [
        "# Set union method\n",
        "# initialize A and B\n",
        "A = {1, 2, 3, 4, 5}\n",
        "B = {4, 5, 6, 7, 8}\n",
        "\n",
        "# use | operator\n",
        "# Output: {1, 2, 3, 4, 5, 6, 7, 8}\n",
        "print(A | B)"
      ],
      "metadata": {
        "colab": {
          "base_uri": "https://localhost:8080/"
        },
        "id": "W68cfRoBWiAT",
        "outputId": "a6a3fcf7-31da-4cce-ffb3-08ec0f42be1a"
      },
      "execution_count": 23,
      "outputs": [
        {
          "output_type": "stream",
          "name": "stdout",
          "text": [
            "{1, 2, 3, 4, 5, 6, 7, 8}\n"
          ]
        }
      ]
    },
    {
      "cell_type": "code",
      "source": [
        "# Intersection of sets\n",
        "# initialize A and B\n",
        "A = {1, 2, 3, 4, 5}\n",
        "B = {4, 5, 6, 7, 8}\n",
        "\n",
        "# use & operator\n",
        "# Output: {4, 5}\n",
        "print(A & B)"
      ],
      "metadata": {
        "colab": {
          "base_uri": "https://localhost:8080/"
        },
        "id": "2RsHh-kzcgdA",
        "outputId": "f1877741-7120-43a5-94b3-fc15ff0fd00a"
      },
      "execution_count": 24,
      "outputs": [
        {
          "output_type": "stream",
          "name": "stdout",
          "text": [
            "{4, 5}\n"
          ]
        }
      ]
    },
    {
      "cell_type": "code",
      "source": [
        "# Difference of two sets\n",
        "# initialize A and B\n",
        "A = {1, 2, 3, 4, 5}\n",
        "B = {4, 5, 6, 7, 8}\n",
        "\n",
        "# use - operator on A\n",
        "# Output: {1, 2, 3}\n",
        "print(A - B)"
      ],
      "metadata": {
        "colab": {
          "base_uri": "https://localhost:8080/"
        },
        "id": "Yrt5vxBscikJ",
        "outputId": "2073ce7c-e448-4c01-ef50-19b3c81ac839"
      },
      "execution_count": 25,
      "outputs": [
        {
          "output_type": "stream",
          "name": "stdout",
          "text": [
            "{1, 2, 3}\n"
          ]
        }
      ]
    },
    {
      "cell_type": "code",
      "source": [
        "# Symmetric difference of two sets\n",
        "# initialize A and B\n",
        "A = {1, 2, 3, 4, 5}\n",
        "B = {4, 5, 6, 7, 8}\n",
        "\n",
        "# use ^ operator\n",
        "# Output: {1, 2, 3, 6, 7, 8}\n",
        "print(A ^ B)"
      ],
      "metadata": {
        "id": "7a9DykM8co_5",
        "outputId": "0f7ff709-ffaf-47ec-bc1f-da979e47090a",
        "colab": {
          "base_uri": "https://localhost:8080/"
        }
      },
      "execution_count": 26,
      "outputs": [
        {
          "output_type": "stream",
          "name": "stdout",
          "text": [
            "{1, 2, 3, 6, 7, 8}\n"
          ]
        }
      ]
    },
    {
      "cell_type": "code",
      "source": [
        "# in keyword in a set\n",
        "# initialize my_set\n",
        "my_set = set(\"apple\")\n",
        "\n",
        "# check if 'a' is present\n",
        "# Output: True\n",
        "print('a' in my_set)\n",
        "\n",
        "# check if 'p' is present\n",
        "# Output: False\n",
        "print('p' not in my_set)"
      ],
      "metadata": {
        "id": "pieONr7wcraB",
        "outputId": "1f46388c-002c-466a-8087-2a2c69ef75d4",
        "colab": {
          "base_uri": "https://localhost:8080/"
        }
      },
      "execution_count": 27,
      "outputs": [
        {
          "output_type": "stream",
          "name": "stdout",
          "text": [
            "True\n",
            "False\n"
          ]
        }
      ]
    },
    {
      "cell_type": "code",
      "source": [],
      "metadata": {
        "id": "IMpMIZQTb-Js"
      },
      "execution_count": 27,
      "outputs": []
    },
    {
      "cell_type": "markdown",
      "source": [
        "## 4. Tuples"
      ],
      "metadata": {
        "id": "MUEzRvAoUciI"
      }
    },
    {
      "cell_type": "code",
      "source": [
        "# Creating Tuples\n",
        "# Empty tuple\n",
        "my_tuple = ()\n",
        "print(my_tuple)\n",
        "\n",
        "# Tuple having integers\n",
        "my_tuple1 = (1, 2, 3)\n",
        "print(my_tuple1)\n",
        "\n",
        "# tuple with mixed datatypes\n",
        "my_tuple2 = (1, \"Hello\", 3.4)\n",
        "print(my_tuple2)\n",
        "\n",
        "# nested tuple\n",
        "my_tuple3 = (\"mouse\", [8, 4, 6], (1, 2, 3))\n",
        "print(my_tuple3)"
      ],
      "metadata": {
        "colab": {
          "base_uri": "https://localhost:8080/"
        },
        "id": "3vJoa9AfYR93",
        "outputId": "d4e72bcf-2774-4f75-8193-634502fa6657"
      },
      "execution_count": 28,
      "outputs": [
        {
          "output_type": "stream",
          "name": "stdout",
          "text": [
            "()\n",
            "(1, 2, 3)\n",
            "(1, 'Hello', 3.4)\n",
            "('mouse', [8, 4, 6], (1, 2, 3))\n"
          ]
        }
      ]
    },
    {
      "cell_type": "code",
      "source": [
        "# Tuple Packing (A tuple can also be created without using parentheses.)\n",
        "my_tuple4 = 3, 4.6, \"dog\"\n",
        "print(my_tuple4)\n",
        "\n",
        "#Tuple Unpacking\n",
        "a, b, c = my_tuple4\n",
        "print(\"\")\n",
        "print(a)\n",
        "print(b)\n",
        "print(c)"
      ],
      "metadata": {
        "colab": {
          "base_uri": "https://localhost:8080/"
        },
        "id": "hJBWE79CYW8_",
        "outputId": "70272562-bceb-4a19-eb3f-f2fa5c821c90"
      },
      "execution_count": 29,
      "outputs": [
        {
          "output_type": "stream",
          "name": "stdout",
          "text": [
            "(3, 4.6, 'dog')\n",
            "\n",
            "3\n",
            "4.6\n",
            "dog\n"
          ]
        }
      ]
    },
    {
      "cell_type": "code",
      "source": [
        "my_tuple = (\"hello\")\n",
        "print(type(my_tuple))\n",
        "\n",
        "# Creating a tuple having one element\n",
        "my_tuple = (\"hello\",)\n",
        "print(type(my_tuple))\n",
        "\n",
        "# Parentheses is optional\n",
        "my_tuple = \"hello\",\n",
        "print(type(my_tuple)) "
      ],
      "metadata": {
        "colab": {
          "base_uri": "https://localhost:8080/"
        },
        "id": "kWYl1g5-ZqIp",
        "outputId": "29bbdd88-c9b3-46df-d2fa-0417000da32a"
      },
      "execution_count": 30,
      "outputs": [
        {
          "output_type": "stream",
          "name": "stdout",
          "text": [
            "<class 'str'>\n",
            "<class 'tuple'>\n",
            "<class 'tuple'>\n"
          ]
        }
      ]
    },
    {
      "cell_type": "code",
      "source": [
        "# Accessing tuple elements using indexing\n",
        "my_tuple = ('p','e','r','m','i','t')\n",
        "\n",
        "print(my_tuple[0])\n",
        "print(my_tuple[5])\n",
        "\n",
        "# nested tuple\n",
        "n_tuple = (\"mouse\", [8, 4, 6], (1, 2, 3))\n",
        "\n",
        "# nested index\n",
        "print(n_tuple[0][3])\n",
        "print(n_tuple[1][1])"
      ],
      "metadata": {
        "colab": {
          "base_uri": "https://localhost:8080/"
        },
        "id": "3xoCckS4Z0AZ",
        "outputId": "aca28f28-1bad-4398-c276-aa572eb6e371"
      },
      "execution_count": 31,
      "outputs": [
        {
          "output_type": "stream",
          "name": "stdout",
          "text": [
            "p\n",
            "t\n",
            "s\n",
            "4\n"
          ]
        }
      ]
    },
    {
      "cell_type": "code",
      "source": [
        "# Negative indexing for accessing tuple elements\n",
        "my_tuple = ('p', 'e', 'r', 'm', 'i', 't')\n",
        "\n",
        "print(my_tuple[-1])\n",
        "print(my_tuple[-6])"
      ],
      "metadata": {
        "colab": {
          "base_uri": "https://localhost:8080/"
        },
        "id": "08ay4osOaEc4",
        "outputId": "247b6dd3-e340-4ea3-af8d-d45e3392717d"
      },
      "execution_count": 32,
      "outputs": [
        {
          "output_type": "stream",
          "name": "stdout",
          "text": [
            "t\n",
            "p\n"
          ]
        }
      ]
    },
    {
      "cell_type": "code",
      "source": [
        "#Deleting Tuple\n",
        "del my_tuple\n",
        "print(my_tuple)"
      ],
      "metadata": {
        "colab": {
          "base_uri": "https://localhost:8080/",
          "height": 200
        },
        "id": "Pd_-zx2RaVAv",
        "outputId": "8cc1d680-de74-4548-cf6d-83cfb33c8426"
      },
      "execution_count": 33,
      "outputs": [
        {
          "output_type": "error",
          "ename": "NameError",
          "evalue": "ignored",
          "traceback": [
            "\u001b[0;31m---------------------------------------------------------------------------\u001b[0m",
            "\u001b[0;31mNameError\u001b[0m                                 Traceback (most recent call last)",
            "\u001b[0;32m<ipython-input-33-197bc7ed8198>\u001b[0m in \u001b[0;36m<module>\u001b[0;34m\u001b[0m\n\u001b[1;32m      1\u001b[0m \u001b[0;31m#Deleting Tuple\u001b[0m\u001b[0;34m\u001b[0m\u001b[0;34m\u001b[0m\u001b[0;34m\u001b[0m\u001b[0m\n\u001b[1;32m      2\u001b[0m \u001b[0;32mdel\u001b[0m \u001b[0mmy_tuple\u001b[0m\u001b[0;34m\u001b[0m\u001b[0;34m\u001b[0m\u001b[0m\n\u001b[0;32m----> 3\u001b[0;31m \u001b[0mprint\u001b[0m\u001b[0;34m(\u001b[0m\u001b[0mmy_tuple\u001b[0m\u001b[0;34m)\u001b[0m\u001b[0;34m\u001b[0m\u001b[0;34m\u001b[0m\u001b[0m\n\u001b[0m",
            "\u001b[0;31mNameError\u001b[0m: name 'my_tuple' is not defined"
          ]
        }
      ]
    },
    {
      "cell_type": "code",
      "source": [
        "my_tuple = ('a', 'p', 'p', 'l', 'e',)\n",
        "\n",
        "print(my_tuple.count('p'))\n",
        "print(my_tuple.index('l'))"
      ],
      "metadata": {
        "id": "Jivsfmg_aeSG",
        "colab": {
          "base_uri": "https://localhost:8080/"
        },
        "outputId": "66f023e3-724e-4cd6-f90f-cbcf332316bc"
      },
      "execution_count": 34,
      "outputs": [
        {
          "output_type": "stream",
          "name": "stdout",
          "text": [
            "2\n",
            "3\n"
          ]
        }
      ]
    },
    {
      "cell_type": "code",
      "source": [
        "# Membership test in tuple\n",
        "my_tuple = ('a', 'p', 'p', 'l', 'e',)\n",
        "\n",
        "# In operation\n",
        "print('a' in my_tuple)\n",
        "print('b' in my_tuple)\n",
        "\n",
        "# Not in operation\n",
        "print('g' not in my_tuple)"
      ],
      "metadata": {
        "id": "ERmCP9TRajSh",
        "colab": {
          "base_uri": "https://localhost:8080/"
        },
        "outputId": "c87b157c-38fb-4826-9151-0da64dc506ac"
      },
      "execution_count": 35,
      "outputs": [
        {
          "output_type": "stream",
          "name": "stdout",
          "text": [
            "True\n",
            "False\n",
            "True\n"
          ]
        }
      ]
    }
  ]
}