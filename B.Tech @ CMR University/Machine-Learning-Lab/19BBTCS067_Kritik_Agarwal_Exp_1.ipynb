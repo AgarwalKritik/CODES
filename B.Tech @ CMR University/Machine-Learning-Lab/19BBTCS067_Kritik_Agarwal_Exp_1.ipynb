{
  "nbformat": 4,
  "nbformat_minor": 0,
  "metadata": {
    "colab": {
      "provenance": [],
      "authorship_tag": "ABX9TyMzE+/8vzWVtLwNp3zzz21y"
    },
    "kernelspec": {
      "name": "python3",
      "display_name": "Python 3"
    },
    "language_info": {
      "name": "python"
    }
  },
  "cells": [
    {
      "cell_type": "markdown",
      "source": [
        "***Machine Learning Exp. 1 / 11th Aug 2022***"
      ],
      "metadata": {
        "id": "2neUopp-JU69"
      }
    },
    {
      "cell_type": "markdown",
      "source": [
        "FIND-S Algorithm: Implement and demonstrate the FIND-S algorithm for finding the most specific hypothesis based on a given set of training data samples. Read\n",
        "the training data from a .CSV file."
      ],
      "metadata": {
        "id": "H7hvuYPyJ5v7"
      }
    },
    {
      "cell_type": "code",
      "execution_count": null,
      "metadata": {
        "id": "f9-c4_pVJO00",
        "colab": {
          "base_uri": "https://localhost:8080/"
        },
        "outputId": "36b33c8b-a36c-4ae8-d487-21ea29569673"
      },
      "outputs": [
        {
          "output_type": "stream",
          "name": "stdout",
          "text": [
            "Drive already mounted at /content/drive; to attempt to forcibly remount, call drive.mount(\"/content/drive\", force_remount=True).\n"
          ]
        }
      ],
      "source": [
        "  from google.colab import drive\n",
        "  drive.mount('/content/drive')"
      ]
    },
    {
      "cell_type": "code",
      "source": [
        "import pandas as pd\n",
        "import numpy as np\n",
        "path = \"/content/drive/MyDrive/finds.csv\"\n",
        "data=pd.read_csv(path)\n",
        "print(data)"
      ],
      "metadata": {
        "id": "SjnmIQ2mI1i5",
        "colab": {
          "base_uri": "https://localhost:8080/"
        },
        "outputId": "7450ce81-0b71-4d77-a056-4f53bbb3c229"
      },
      "execution_count": null,
      "outputs": [
        {
          "output_type": "stream",
          "name": "stdout",
          "text": [
            "     sky airtemp humidity    wind water forecast enjoysport\n",
            "0  sunny    warm   normal  strong  warm     same        yes\n",
            "1  sunny    warm     high  strong  warm     same        yes\n",
            "2  rainy    cold     high  strong  warm   change         no\n",
            "3  sunny    warm     high  strong  cool   change        yes\n"
          ]
        }
      ]
    },
    {
      "cell_type": "code",
      "source": [
        "concepts=np.array(data)[:,:-1]\n",
        "print(concepts)"
      ],
      "metadata": {
        "colab": {
          "base_uri": "https://localhost:8080/"
        },
        "id": "dCePniGVKxUz",
        "outputId": "2113e2ad-80f6-4eff-fd18-5ae7c1dc6a52"
      },
      "execution_count": null,
      "outputs": [
        {
          "output_type": "stream",
          "name": "stdout",
          "text": [
            "[['sunny' 'warm' 'normal' 'strong' 'warm' 'same']\n",
            " ['sunny' 'warm' 'high' 'strong' 'warm' 'same']\n",
            " ['rainy' 'cold' 'high' 'strong' 'warm' 'change']\n",
            " ['sunny' 'warm' 'high' 'strong' 'cool' 'change']]\n"
          ]
        }
      ]
    },
    {
      "cell_type": "code",
      "source": [
        "targets=np.array(data)[:,-1]\n",
        "print(targets)"
      ],
      "metadata": {
        "colab": {
          "base_uri": "https://localhost:8080/"
        },
        "id": "JvVjRMPkK3qf",
        "outputId": "fda784e9-71ab-4bbc-dfbc-5bfa6db18cef"
      },
      "execution_count": null,
      "outputs": [
        {
          "output_type": "stream",
          "name": "stdout",
          "text": [
            "['yes' 'yes' 'no' 'yes']\n"
          ]
        }
      ]
    },
    {
      "cell_type": "code",
      "source": [
        "def find_S(con,tar):\n",
        "  for i,val in enumerate(tar):\n",
        "    if val=='yes':\n",
        "      specific_h=con[i].copy()\n",
        "      break\n",
        "  print(specific_h)\n",
        "\n",
        "  for i,val in enumerate(con):\n",
        "    if tar[i]=='yes':\n",
        "      for x in range(len(specific_h)):\n",
        "        if val[x]!=specific_h[x]:\n",
        "          specific_h[x]='?'\n",
        "          print(specific_h)\n",
        "        else:\n",
        "          pass\n",
        "  return specific_h"
      ],
      "metadata": {
        "id": "-4XD98pUK_vP"
      },
      "execution_count": null,
      "outputs": []
    },
    {
      "cell_type": "code",
      "source": [
        "find_S(concepts,targets)"
      ],
      "metadata": {
        "colab": {
          "base_uri": "https://localhost:8080/"
        },
        "id": "BS9aAhk1LS_b",
        "outputId": "86623ea7-68ef-477f-f12a-d4ed340e4dee"
      },
      "execution_count": null,
      "outputs": [
        {
          "output_type": "stream",
          "name": "stdout",
          "text": [
            "['sunny' 'warm' 'normal' 'strong' 'warm' 'same']\n",
            "['sunny' 'warm' '?' 'strong' 'warm' 'same']\n",
            "['sunny' 'warm' '?' 'strong' 'warm' 'same']\n",
            "['sunny' 'warm' '?' 'strong' '?' 'same']\n",
            "['sunny' 'warm' '?' 'strong' '?' '?']\n"
          ]
        },
        {
          "output_type": "execute_result",
          "data": {
            "text/plain": [
              "array(['sunny', 'warm', '?', 'strong', '?', '?'], dtype=object)"
            ]
          },
          "metadata": {},
          "execution_count": 6
        }
      ]
    }
  ]
}