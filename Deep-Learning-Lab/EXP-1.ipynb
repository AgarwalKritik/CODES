{
  "cells": [
    {
      "cell_type": "markdown",
      "source": [
        "[KRITIK AGARWAL 19BBTCS067](https://github.com/Kritik007)"
      ],
      "metadata": {
        "id": "La2qgnEmP3L5"
      },
      "id": "La2qgnEmP3L5"
    },
    {
      "cell_type": "markdown",
      "source": [
        "Deep Learning Lab Experiment 1"
      ],
      "metadata": {
        "id": "tTR5nKIrP2-c"
      },
      "id": "tTR5nKIrP2-c"
    },
    {
      "cell_type": "markdown",
      "source": [
        "Basic Operations of Tensor Flow: Implement and demonstrate the basic operations of tensor flow along with printing your name & UG number"
      ],
      "metadata": {
        "id": "AgH59-xtP227"
      },
      "id": "AgH59-xtP227"
    },
    {
      "cell_type": "markdown",
      "source": [
        "\n",
        "\n",
        "---\n",
        "\n",
        "\n",
        "Tensorflow has gained a lot of attention in the last few years for deep learning models. It provides simple APIs for the creation of neural networks which can be effectively scaled and hosted on different platforms. \n",
        "\n",
        "Tensorflow is a python framework that has a comprehensive set of tools and libraries to create machine learning projects. Here the relationship of the tensor with TensorFlow is in the sense that most of the input, intermediate, and output data is in the form of tensors.\n",
        "\n",
        "\n",
        "---\n",
        "\n"
      ],
      "metadata": {
        "id": "KctRR7WVQMe6"
      },
      "id": "KctRR7WVQMe6"
    },
    {
      "cell_type": "markdown",
      "source": [
        "#### Tensorflow constant and variables"
      ],
      "metadata": {
        "id": "hQdqKH8XQbrw"
      },
      "id": "hQdqKH8XQbrw"
    },
    {
      "cell_type": "markdown",
      "source": [
        "Tensorflow uses its own type of constants and variable also has a different method to declare, define and initialize them. "
      ],
      "metadata": {
        "id": "ZTLr4nAEQuET"
      },
      "id": "ZTLr4nAEQuET"
    },
    {
      "cell_type": "code",
      "execution_count": null,
      "id": "c322f650",
      "metadata": {
        "id": "c322f650",
        "outputId": "7841aa67-47cb-4df2-d97d-f294d0be0cad",
        "colab": {
          "base_uri": "https://localhost:8080/"
        }
      },
      "outputs": [
        {
          "output_type": "stream",
          "name": "stdout",
          "text": [
            "<dtype: 'int32'>\n",
            "\n",
            "\n",
            "<tf.Variable 'Variable:0' shape=(4,) dtype=int32, numpy=array([1, 2, 3, 4], dtype=int32)>\n",
            "\n",
            "\n",
            "[1 2 3 4]\n",
            "\n",
            "\n",
            "<tf.Variable 'Variable:0' shape=(4,) dtype=int32, numpy=array([1, 2, 3, 4], dtype=int32)>\n"
          ]
        }
      ],
      "source": [
        "#import tensorflow as tf\n",
        "import tensorflow as tf\n",
        "\n",
        "# Declare a constant, we need to import constant from tensorflow\n",
        "sample_constant = tf.constant(20)\n",
        "print(sample_constant.dtype)\n",
        "print(\"\\n\")\n",
        "\n",
        "# Now we can perform some operations using tensorlfow in this constant\n",
        "# Similarly, we can create variables also\n",
        "A1=tf.Variable([1,2,3,4])\n",
        "print(A1)\n",
        "print(\"\\n\")\n",
        "\n",
        "#Above created variable can be printed using the numpy conversion\n",
        "print(A1.numpy())\n",
        "print(\"\\n\")\n",
        "\n",
        "B1=A1.numpy()\n",
        "B1 = tf.Variable(B1)\n",
        "print(B1)"
      ]
    },
    {
      "cell_type": "markdown",
      "source": [
        "#### Zeros and Ones"
      ],
      "metadata": {
        "id": "lHYkOroqQpyw"
      },
      "id": "lHYkOroqQpyw"
    },
    {
      "cell_type": "markdown",
      "source": [
        "When performing various operations in the working of the neural networks, we have to take matrices with all elements as zero or one initialized. Tensorflow has zeros and ones function that can be used to create them in a single line of code. "
      ],
      "metadata": {
        "id": "VgqSXMRsQvac"
      },
      "id": "VgqSXMRsQvac"
    },
    {
      "cell_type": "code",
      "execution_count": null,
      "id": "c04947c4",
      "metadata": {
        "id": "c04947c4",
        "outputId": "318bf25c-df74-4d72-fd36-34db63a89989",
        "colab": {
          "base_uri": "https://localhost:8080/"
        }
      },
      "outputs": [
        {
          "output_type": "stream",
          "name": "stdout",
          "text": [
            "[[1 1]\n",
            " [1 1]\n",
            " [1 1]]\n",
            "\n",
            "\n",
            "tf.Tensor(\n",
            "[[0. 0.]\n",
            " [0. 0.]\n",
            " [0. 0.]], shape=(3, 2), dtype=float32)\n"
          ]
        }
      ],
      "source": [
        "# Ones function\n",
        "A1 = tf.ones([3,2], tf.int32)\n",
        "print(A1.numpy())\n",
        "print(\"\\n\")\n",
        "\n",
        "# Zeros function\n",
        "B1 = tf.zeros([3,2])\n",
        "print(B1)\n",
        "\n",
        "A1 = tf.constant([1,2,3,4])\n",
        "A23 = tf.constant([[1,2,3], [4,5,6]])\n",
        "\n",
        "# create ones tensor and perform element wise multiplication\n",
        "B1 = tf.ones_like(A1)\n",
        "B23 = tf.ones_like(A23)"
      ]
    },
    {
      "cell_type": "markdown",
      "source": [
        "Apart from ones and zeros, we can also initialize a tensor of any shape with any value using *tf.fill* method."
      ],
      "metadata": {
        "id": "NcTD21xyQ71c"
      },
      "id": "NcTD21xyQ71c"
    },
    {
      "cell_type": "code",
      "execution_count": null,
      "id": "19033906",
      "metadata": {
        "id": "19033906",
        "outputId": "3390ab30-6d1d-44b4-f990-92705e830422",
        "colab": {
          "base_uri": "https://localhost:8080/"
        }
      },
      "outputs": [
        {
          "output_type": "stream",
          "name": "stdout",
          "text": [
            "[[7 7 7]\n",
            " [7 7 7]\n",
            " [7 7 7]]\n"
          ]
        }
      ],
      "source": [
        "# fill method\n",
        "c33 = tf.fill([3,3], 7)\n",
        "print(c33.numpy())"
      ]
    },
    {
      "cell_type": "markdown",
      "source": [
        "#### Operations"
      ],
      "metadata": {
        "id": "plej2AOlRE02"
      },
      "id": "plej2AOlRE02"
    },
    {
      "cell_type": "markdown",
      "source": [
        "Implementation of a neural network using TensorFlow requires various operations to be performed between the constants and the variables."
      ],
      "metadata": {
        "id": "gtxyX7-_RGeH"
      },
      "id": "gtxyX7-_RGeH"
    },
    {
      "cell_type": "markdown",
      "source": [
        "- Add"
      ],
      "metadata": {
        "id": "Ec4I3cX4ROdo"
      },
      "id": "Ec4I3cX4ROdo"
    },
    {
      "cell_type": "code",
      "execution_count": null,
      "id": "58b5ca2c",
      "metadata": {
        "id": "58b5ca2c",
        "outputId": "261fddbe-58ce-4847-85d3-c85736dde822",
        "colab": {
          "base_uri": "https://localhost:8080/"
        }
      },
      "outputs": [
        {
          "output_type": "stream",
          "name": "stdout",
          "text": [
            "[[10 10 10]\n",
            " [10 10 10]\n",
            " [10 10 10]]\n"
          ]
        }
      ],
      "source": [
        "# create two tensors\n",
        "a1 = tf.fill([3,3], 7)\n",
        "a2 = tf.fill([3,3], 3)\n",
        "\n",
        "# Add the two tensors\n",
        "a3 = tf.add(a1,a2)\n",
        "\n",
        "# print final tensor\n",
        "print(a3.numpy())"
      ]
    },
    {
      "cell_type": "markdown",
      "source": [
        "- Multiply and Matrix Multiplication"
      ],
      "metadata": {
        "id": "iJPwPKEsRWpt"
      },
      "id": "iJPwPKEsRWpt"
    },
    {
      "cell_type": "code",
      "execution_count": null,
      "id": "96442736",
      "metadata": {
        "id": "96442736",
        "outputId": "2488d157-ca76-41aa-a206-7b29ae9ef46e",
        "colab": {
          "base_uri": "https://localhost:8080/"
        }
      },
      "outputs": [
        {
          "output_type": "stream",
          "name": "stdout",
          "text": [
            "tf.Tensor(\n",
            "[[100]\n",
            " [200]], shape=(2, 1), dtype=int32)\n",
            "\n",
            "\n",
            "tf.Tensor(\n",
            "[[2500]\n",
            " [2800]\n",
            " [3100]], shape=(3, 1), dtype=int32)\n",
            "\n",
            "\n",
            "tf.Tensor(\n",
            "[[-2390]\n",
            " [-2680]\n",
            " [-2970]], shape=(3, 1), dtype=int32)\n"
          ]
        }
      ],
      "source": [
        "# Ones function\n",
        "A1 = tf.ones([3,2], tf.int32)\n",
        "\n",
        "# create ones tensor and perform element wise multiplication\n",
        "B1 = tf.ones_like(A1)\n",
        "C1 = tf.multiply(A1,B1)\n",
        "\n",
        "# Matrix multiplication\n",
        "# create feature value\n",
        "feat_value = tf.constant([[1,12],[2,13],[3,14]])\n",
        "parameters = tf.constant([[100],[200]])\n",
        "print(parameters)\n",
        "print(\"\\n\")\n",
        "\n",
        "# create predictions by matrix multiplication\n",
        "pred = tf.matmul(feat_value, parameters)\n",
        "print(pred)\n",
        "print(\"\\n\")\n",
        "\n",
        "# if we define actual value, we can have errors\n",
        "actual = [[110], [120],[130]]\n",
        "error = actual-pred\n",
        "print(error)"
      ]
    },
    {
      "cell_type": "markdown",
      "source": [
        "- Reduce Functions"
      ],
      "metadata": {
        "id": "HGmn4YBeRjel"
      },
      "id": "HGmn4YBeRjel"
    },
    {
      "cell_type": "code",
      "execution_count": null,
      "id": "3cec585b",
      "metadata": {
        "id": "3cec585b",
        "outputId": "433989d8-5a7d-4fab-bda4-6e44dceaacce",
        "colab": {
          "base_uri": "https://localhost:8080/"
        }
      },
      "outputs": [
        {
          "output_type": "stream",
          "name": "stdout",
          "text": [
            "tf.Tensor(45, shape=(), dtype=int32)\n",
            "\n",
            "\n",
            "tf.Tensor([ 6 39], shape=(2,), dtype=int32)\n",
            "\n",
            "\n",
            "tf.Tensor([13 15 17], shape=(3,), dtype=int32)\n"
          ]
        }
      ],
      "source": [
        "# we can reduce the value of tensor\n",
        "feat_value = tf.constant([[1,12],[2,13],[3,14]])\n",
        "pred = tf.reduce_sum(feat_value)\n",
        "print(pred)\n",
        "print(\"\\n\")\n",
        "\n",
        "# we can reduce at any dimension also\n",
        "print(tf.reduce_sum(feat_value, 0))     # This is reduce sum for zero dimension means column wise\n",
        "print(\"\\n\")\n",
        "\n",
        "print(tf.reduce_sum(feat_value, 1))     # This is reduce sum for first dimension means row wise"
      ]
    },
    {
      "cell_type": "markdown",
      "source": [
        "- Gradient"
      ],
      "metadata": {
        "id": "AjDJfgsPSR6a"
      },
      "id": "AjDJfgsPSR6a"
    },
    {
      "cell_type": "code",
      "execution_count": null,
      "id": "0cbb7bec",
      "metadata": {
        "id": "0cbb7bec",
        "outputId": "fa293eec-98cf-435f-885b-5164a2cb32c6",
        "colab": {
          "base_uri": "https://localhost:8080/"
        }
      },
      "outputs": [
        {
          "output_type": "stream",
          "name": "stdout",
          "text": [
            "12.0\n"
          ]
        }
      ],
      "source": [
        "# Define x\n",
        "x = tf.Variable(6.0)\n",
        "\n",
        "# Define y within instance of GradientTape\n",
        "with tf.GradientTape() as gt:\n",
        "  gt.watch(x)\n",
        "  y = tf.multiply(x, x)\n",
        "  \n",
        "#Evaluate the gradient of y at x = 6\n",
        "g = gt.gradient(y, x)\n",
        "print(g.numpy())"
      ]
    },
    {
      "cell_type": "markdown",
      "source": [
        "- Reshape"
      ],
      "metadata": {
        "id": "AiZbXt8uSTSj"
      },
      "id": "AiZbXt8uSTSj"
    },
    {
      "cell_type": "code",
      "execution_count": null,
      "id": "0a5676f3",
      "metadata": {
        "id": "0a5676f3"
      },
      "outputs": [],
      "source": [
        "# we need to reshape a picture so that it can be feed to neural network\n",
        "# lets say we have a 28*28 grayscale image\n",
        "image = tf.random.uniform([28,28], maxval=255, dtype='int32')\n",
        "image_reshape = tf.reshape(image, [28*28,1])\n",
        "# this is required when we input an image to the neural network"
      ]
    },
    {
      "cell_type": "markdown",
      "source": [
        "- Random Numbers"
      ],
      "metadata": {
        "id": "VG7l__VPVD3b"
      },
      "id": "VG7l__VPVD3b"
    },
    {
      "cell_type": "code",
      "source": [
        "g1 = tf.random.Generator.from_seed(1)\n",
        "print(g1.normal(shape=[2, 3]))\n",
        "print(\"\\n\")\n",
        "\n",
        "g2 = tf.random.get_global_generator()\n",
        "print(g2.normal(shape=[2, 3]))\n",
        "print(\"\\n\")\n",
        "\n",
        "g3 = tf.random.Generator.from_seed(1, alg='philox')\n",
        "print(g3.normal(shape=[2, 3]))\n",
        "print(\"\\n\")\n",
        "\n",
        "g = tf.random.Generator.from_non_deterministic_state()\n",
        "print(g.normal(shape=[2, 3]))"
      ],
      "metadata": {
        "colab": {
          "base_uri": "https://localhost:8080/"
        },
        "id": "SUHBOc_MVINh",
        "outputId": "8ec19ff3-64c0-4232-a165-b66e87ad85b9"
      },
      "id": "SUHBOc_MVINh",
      "execution_count": null,
      "outputs": [
        {
          "output_type": "stream",
          "name": "stdout",
          "text": [
            "tf.Tensor(\n",
            "[[ 0.43842274 -0.53439844 -0.07710262]\n",
            " [ 1.5658046  -0.1012345  -0.2744976 ]], shape=(2, 3), dtype=float32)\n",
            "\n",
            "\n",
            "tf.Tensor(\n",
            "[[ 0.04502168 -1.419444    1.045039  ]\n",
            " [ 1.0860493   0.25064045  0.04702757]], shape=(2, 3), dtype=float32)\n",
            "\n",
            "\n",
            "tf.Tensor(\n",
            "[[ 0.43842274 -0.53439844 -0.07710262]\n",
            " [ 1.5658046  -0.1012345  -0.2744976 ]], shape=(2, 3), dtype=float32)\n",
            "\n",
            "\n",
            "tf.Tensor(\n",
            "[[ 1.3171048  -0.10229805 -0.88267523]\n",
            " [ 0.20077606  1.310642    0.09625737]], shape=(2, 3), dtype=float32)\n"
          ]
        }
      ]
    },
    {
      "cell_type": "markdown",
      "source": [
        "- Losses in Tensorflow"
      ],
      "metadata": {
        "id": "KhGAxY9LVmz0"
      },
      "id": "KhGAxY9LVmz0"
    },
    {
      "cell_type": "code",
      "source": [
        "# Three losses most commonly used\n",
        "# Mean Absolute Error\n",
        "# tf.keras.losses.mae()\n",
        "\n",
        "# Mean squared error\n",
        "# tf.keras.losses.mse()\n",
        "\n",
        "# Huber Error\n",
        "# tf.keras.losses.huber()\n",
        "\n",
        "print(\"Kritik Agarwal 19BBTCS067\")"
      ],
      "metadata": {
        "colab": {
          "base_uri": "https://localhost:8080/"
        },
        "id": "GaKOVJ1BVq3e",
        "outputId": "0315bff8-337b-4db2-b836-127dafaea1ab"
      },
      "id": "GaKOVJ1BVq3e",
      "execution_count": null,
      "outputs": [
        {
          "output_type": "stream",
          "name": "stdout",
          "text": [
            "Kritik Agarwal 19BBTCS067\n"
          ]
        }
      ]
    }
  ],
  "metadata": {
    "kernelspec": {
      "display_name": "Python 3 (ipykernel)",
      "language": "python",
      "name": "python3"
    },
    "language_info": {
      "codemirror_mode": {
        "name": "ipython",
        "version": 3
      },
      "file_extension": ".py",
      "mimetype": "text/x-python",
      "name": "python",
      "nbconvert_exporter": "python",
      "pygments_lexer": "ipython3",
      "version": "3.9.7"
    },
    "colab": {
      "provenance": []
    }
  },
  "nbformat": 4,
  "nbformat_minor": 5
}